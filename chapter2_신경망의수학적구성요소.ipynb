{
  "nbformat": 4,
  "nbformat_minor": 0,
  "metadata": {
    "colab": {
      "name": "chapter2-신경망의수학적구성요소.ipynb",
      "provenance": [],
      "toc_visible": true,
      "authorship_tag": "ABX9TyMNArxR0wy4ygh5u1Yrasu+",
      "include_colab_link": true
    },
    "kernelspec": {
      "name": "python3",
      "display_name": "Python 3"
    }
  },
  "cells": [
    {
      "cell_type": "markdown",
      "metadata": {
        "id": "view-in-github",
        "colab_type": "text"
      },
      "source": [
        "<a href=\"https://colab.research.google.com/github/ProtossDragoon/Deep-Learning-with-Python/blob/main/chapter2_%EC%8B%A0%EA%B2%BD%EB%A7%9D%EC%9D%98%EC%88%98%ED%95%99%EC%A0%81%EA%B5%AC%EC%84%B1%EC%9A%94%EC%86%8C.ipynb\" target=\"_parent\"><img src=\"https://colab.research.google.com/assets/colab-badge.svg\" alt=\"Open In Colab\"/></a>"
      ]
    },
    {
      "cell_type": "markdown",
      "metadata": {
        "id": "lKwp16b_vq4r"
      },
      "source": [
        "# 작성 : 2020/10/03\n",
        "\n",
        "- 이 notebook 은 SAI I Team 의 '케라스 창시자에게 배우는 딥러닝' 스터디 참고/멘토링 자료 목적으로 제작되었습니다.\n",
        "- 이 notebook 을 학습하고자 할 때, 해당 주차의 책을 모두 공부한 후 따라가는 것을 매우 추천합니다.\n",
        "- 이 코드와 주석에 설명되어있지 않다고 중요하지 않은 내용인 것은 아닙니다. 반드시 책을 선행해 주세요.\n",
        "- 제작자 github : https://github.com/ProtossDragoon\n",
        "- 질문 올리는 곳 : \n",
        "- 2020년 SAI 동아리원분들께서는, https://github.com/sju-coml/SAI-2020-Team-I/issues 에 질문을 올려주세요.\n",
        "- contact : dlwkdgn1@naver.com / dlwkdgn3@gmail.com"
      ]
    },
    {
      "cell_type": "markdown",
      "metadata": {
        "id": "NRjOwtVZ1qHn"
      },
      "source": [
        "# 신경망과의 첫 만남"
      ]
    },
    {
      "cell_type": "code",
      "metadata": {
        "id": "iEwAyXMfqGWF"
      },
      "source": [
        "import tensorflow.keras as keras # 어느 순간부터, keras 는 tensorflow 라는 거대한 프레임워크 안에 포함되어 있습니다."
      ],
      "execution_count": null,
      "outputs": []
    },
    {
      "cell_type": "code",
      "metadata": {
        "id": "9SnGNjuRqRzF",
        "outputId": "073ba3c7-3636-4447-e9fd-e47a71b7866f",
        "colab": {
          "base_uri": "https://localhost:8080/",
          "height": 53
        }
      },
      "source": [
        "from keras.datasets import mnist\n",
        "\n",
        "# 데이터를 쉽게 다운로드받을 수 있도록 Keras 에서 미리 소스코드로 준비해 두었습니다.\n",
        "# mnist dataset 은 최근 연구에도 활발히 사용되는 데이터셋이기 때문이지요!\n",
        "(train_images, train_labels), (test_images, test_labels) = mnist.load_data()"
      ],
      "execution_count": null,
      "outputs": [
        {
          "output_type": "stream",
          "text": [
            "Downloading data from https://storage.googleapis.com/tensorflow/tf-keras-datasets/mnist.npz\n",
            "11493376/11490434 [==============================] - 0s 0us/step\n"
          ],
          "name": "stdout"
        }
      ]
    },
    {
      "cell_type": "code",
      "metadata": {
        "id": "LJ-hy7hyqe3V",
        "outputId": "8d6faa60-f3c7-4e83-8cda-bc702cd091e9",
        "colab": {
          "base_uri": "https://localhost:8080/",
          "height": 161
        }
      },
      "source": [
        "print('training data')\n",
        "print(train_images.shape)\n",
        "print(train_labels.shape)\n",
        "\n",
        "print('-----')\n",
        "\n",
        "print('test data')\n",
        "print(test_images.shape)\n",
        "print(test_labels.shape)\n",
        "\n",
        "print('test data 5 preview :', test_labels[:5], '...')"
      ],
      "execution_count": null,
      "outputs": [
        {
          "output_type": "stream",
          "text": [
            "training data\n",
            "(60000, 28, 28)\n",
            "(60000,)\n",
            "-----\n",
            "test data\n",
            "(10000, 28, 28)\n",
            "(10000,)\n",
            "test data 5 preview : [7 2 1 0 4] ...\n"
          ],
          "name": "stdout"
        }
      ]
    },
    {
      "cell_type": "code",
      "metadata": {
        "id": "ZxkndBIjqkAJ",
        "outputId": "4e9ed681-69eb-45d4-a987-df78b4363948",
        "colab": {
          "base_uri": "https://localhost:8080/",
          "height": 283
        }
      },
      "source": [
        "import matplotlib.pyplot as plt\n",
        "plt.figure()\n",
        "plt.imshow(train_images[0])\n",
        "plt.show()\n",
        "print('label of this image : ', train_labels[0])"
      ],
      "execution_count": null,
      "outputs": [
        {
          "output_type": "display_data",
          "data": {
            "image/png": "[encoded data removed]",
            "text/plain": [
              "<Figure size 432x288 with 1 Axes>"
            ]
          },
          "metadata": {
            "tags": [],
            "needs_background": "light"
          }
        },
        {
          "output_type": "stream",
          "text": [
            "label of this image :  5\n"
          ],
          "name": "stdout"
        }
      ]
    },
    {
      "cell_type": "code",
      "metadata": {
        "id": "PYidlDvPqux1"
      },
      "source": [
        "from keras import models\n",
        "from keras import layers\n",
        "\n",
        "network  = models.Sequential() # Sequantial 한 방식으로, network 의 layer 을 쌓아 볼 것입니다. Sequantial 하지 않은 방식으로는 Functional 한 방식이 있는데, 지금은 이해하지 맙시다!\n",
        "\n",
        "# 반드시 반드시! https://keras.io/ko/getting-started/sequential-model-guide/ 를 눌러 보기라도 합시다. 실제로는, 이러한 문서를 보고 작성해야 합니다!\n",
        "network.add(layers.Dense(512, activation='relu', input_shape=(28*28,)))\n",
        "network.add(layers.Dense(10, activation='softmax'))"
      ],
      "execution_count": null,
      "outputs": []
    },
    {
      "cell_type": "markdown",
      "metadata": {
        "id": "Hztl18kytY95"
      },
      "source": [
        "## 꼰대질\n",
        "\n",
        "### 아직 python 을 공부한다고 \"문법\" 공부만 하는 고3 같은 분들에게.\n",
        "언어의 문법은 이러한 내용을 이해하는 데 도움을 줄 뿐입니다.\n",
        "- network.compile() 에서 network 은 무슨 클래스의 변수일까?\n",
        "- network.compile() 에서 compile() 은 함수이다. 그렇다면, parameter 로 넘기는 optimizer = 'rmsprop' 는 무슨 뜻일까?\n",
        "- a = network.compile() 을 하지 않는 이유는 무엇일까?\n",
        "\n",
        "<br>\n",
        "\n",
        "### API 문서 연습하기.\n",
        "아래 질문들에 대한 답을 스스로 찾아 봅시다.\n",
        "- 왜 metrics 에 list 를 대입해야 하는가?\n",
        "- 왜 metrics 에 string 을 넘겨주고 있을까?\n",
        "- string 으로 표현할 수 있는 metrics 만으로 부족하다면, 무엇을 보아야 할까?\n",
        "- output 이 여러 개라면, list type 가 아닌 다른 datatype (class) 변수를 metric 에 대입할 수 있는가?\n",
        "\n",
        "<br>\n",
        "\n",
        "### 실제 API 문서 내용.\n",
        "metrics: **List of metrics** to be evaluated by the model during training\n",
        "      and testing. **Each of this can be a string (name of a built-in\n",
        "      function)**, function or a tf.keras.metrics.Metric instance. **See\n",
        "      tf.keras.metrics.** Typically you will use metrics=['accuracy']. A\n",
        "      function is any callable with the signature result = fn(y_true,\n",
        "      y_pred). To specify different metrics for different outputs of a\n",
        "      multi-output model, you could also pass a dictionary, such as\n",
        "        metrics={'output_a': 'accuracy', 'output_b': ['accuracy', 'mse']}.\n",
        "          You can also pass a list (len = len(outputs)) of lists of metrics\n",
        "          such as metrics=[['accuracy'], ['accuracy', 'mse']] or\n",
        "          metrics=['accuracy', ['accuracy', 'mse']]. When you pass the\n",
        "          strings 'accuracy' or 'acc', we convert this to one of\n",
        "          tf.keras.metrics.BinaryAccuracy,\n",
        "          tf.keras.metrics.CategoricalAccuracy,\n",
        "          tf.keras.metrics.SparseCategoricalAccuracy based on the loss\n",
        "          function used and the model output shape. We do a similar\n",
        "          conversion for the strings 'crossentropy' and 'ce' as well."
      ]
    },
    {
      "cell_type": "code",
      "metadata": {
        "id": "DalfKylF1JAi",
        "outputId": "f07a8b84-7f71-4be3-dfa0-6f64f0258adb",
        "colab": {
          "base_uri": "https://localhost:8080/",
          "height": 107
        }
      },
      "source": [
        "from keras.utils import to_categorical\n",
        "\n",
        "train_labels_categorized = to_categorical(train_labels)\n",
        "test_labels_categorized = to_categorical(test_labels)\n",
        "\n",
        "print(train_labels_categorized.shape, '->', train_labels.shape)\n",
        "print(test_labels_categorized.shape, '->', test_labels.shape)\n",
        "print('-----')\n",
        "\n",
        "print('train labels')\n",
        "print(train_labels[0], '->', train_labels_categorized[0])"
      ],
      "execution_count": null,
      "outputs": [
        {
          "output_type": "stream",
          "text": [
            "(60000, 10) -> (60000,)\n",
            "(10000, 10) -> (10000,)\n",
            "-----\n",
            "train labels\n",
            "5 -> [0. 0. 0. 0. 0. 1. 0. 0. 0. 0.]\n"
          ],
          "name": "stdout"
        }
      ]
    },
    {
      "cell_type": "code",
      "metadata": {
        "id": "6kp4zBa9xDA7",
        "outputId": "399a907c-c4a9-4a67-cec2-be0bcdc538af",
        "colab": {
          "base_uri": "https://localhost:8080/",
          "height": 483
        }
      },
      "source": [
        "plt.figure(figsize = [15,8])\n",
        "\n",
        "plt.subplot(1,2,1)\n",
        "plt.hist(train_images[0]) # 이 5 라는 이미지의 픽셀값들이 가지는 값들이 어느 범위에 분포해 있는지 봅시다.\n",
        "\n",
        "plt.subplot(1,2,2)\n",
        "plt.imshow(train_images[0])\n",
        "plt.show()"
      ],
      "execution_count": null,
      "outputs": [
        {
          "output_type": "display_data",
          "data": {
            "image/png": "[encoded data removed]",
            "text/plain": [
              "<Figure size 1080x576 with 2 Axes>"
            ]
          },
          "metadata": {
            "tags": [],
            "needs_background": "light"
          }
        }
      ]
    },
    {
      "cell_type": "code",
      "metadata": {
        "id": "jqOzJTSvsiyy",
        "outputId": "67f170b5-e905-4565-8052-cfaf9e7b4727",
        "colab": {
          "base_uri": "https://localhost:8080/",
          "height": 537
        }
      },
      "source": [
        "train_images_reshaped            = train_images.reshape((60000, 28*28))\n",
        "test_images_reshaped             = test_images.reshape((10000, 28*28))\n",
        "\n",
        "print(train_images.shape, '->', train_images_reshaped.shape)\n",
        "print(test_images.shape, '->', test_images_reshaped.shape)\n",
        "print('-----')\n",
        "\n",
        "plt.figure(figsize = [15,8])\n",
        "\n",
        "plt.subplot(1,2,1)\n",
        "plt.hist(train_images_reshaped[0]) # 이 5 라는 이미지의 픽셀값들이 가지는 값들이 어느 범위에 분포해 있는지 봅시다. 아까와는 다르게, x 축의 범위가 0에서 1 사이겠지요?\n",
        "\n",
        "plt.subplot(1,2,2)\n",
        "plt.imshow(train_images_reshaped[0].reshape(28,28))\n",
        "plt.show()"
      ],
      "execution_count": null,
      "outputs": [
        {
          "output_type": "stream",
          "text": [
            "(60000, 28, 28) -> (60000, 784)\n",
            "(10000, 28, 28) -> (10000, 784)\n",
            "-----\n"
          ],
          "name": "stdout"
        },
        {
          "output_type": "display_data",
          "data": {
            "image/png": "[encoded data removed]",
            "text/plain": [
              "<Figure size 1080x576 with 2 Axes>"
            ]
          },
          "metadata": {
            "tags": [],
            "needs_background": "light"
          }
        }
      ]
    },
    {
      "cell_type": "code",
      "metadata": {
        "id": "ZhsGaSSY7Db4",
        "outputId": "548767fd-0cd5-41c5-d086-e87409571c81",
        "colab": {
          "base_uri": "https://localhost:8080/",
          "height": 233
        }
      },
      "source": [
        "network.compile(optimizer='rmsprop', loss='categorical_crossentropy', metrics=['accuracy'])\n",
        "network.summary()"
      ],
      "execution_count": null,
      "outputs": [
        {
          "output_type": "stream",
          "text": [
            "Model: \"sequential\"\n",
            "_________________________________________________________________\n",
            "Layer (type)                 Output Shape              Param #   \n",
            "=================================================================\n",
            "dense (Dense)                (None, 512)               401920    \n",
            "_________________________________________________________________\n",
            "dense_1 (Dense)              (None, 10)                5130      \n",
            "=================================================================\n",
            "Total params: 407,050\n",
            "Trainable params: 407,050\n",
            "Non-trainable params: 0\n",
            "_________________________________________________________________\n"
          ],
          "name": "stdout"
        }
      ]
    },
    {
      "cell_type": "code",
      "metadata": {
        "id": "ODqGdSsqwLMk",
        "outputId": "c73faaca-53a3-4308-e6d4-1dbfddc9df31",
        "colab": {
          "base_uri": "https://localhost:8080/",
          "height": 215
        }
      },
      "source": [
        "network.fit(train_images_reshaped, train_labels_categorized, epochs = 5, batch_size = 128)"
      ],
      "execution_count": null,
      "outputs": [
        {
          "output_type": "stream",
          "text": [
            "Epoch 1/5\n",
            "469/469 [==============================] - 4s 8ms/step - loss: 5.2851 - accuracy: 0.8982\n",
            "Epoch 2/5\n",
            "469/469 [==============================] - 4s 8ms/step - loss: 0.6627 - accuracy: 0.9520\n",
            "Epoch 3/5\n",
            "469/469 [==============================] - 4s 8ms/step - loss: 0.4682 - accuracy: 0.9639\n",
            "Epoch 4/5\n",
            "469/469 [==============================] - 4s 8ms/step - loss: 0.3477 - accuracy: 0.9722\n",
            "Epoch 5/5\n",
            "469/469 [==============================] - 4s 8ms/step - loss: 0.3243 - accuracy: 0.9763\n"
          ],
          "name": "stdout"
        },
        {
          "output_type": "execute_result",
          "data": {
            "text/plain": [
              "<tensorflow.python.keras.callbacks.History at 0x7fcd96f9ffd0>"
            ]
          },
          "metadata": {
            "tags": []
          },
          "execution_count": 11
        }
      ]
    },
    {
      "cell_type": "code",
      "metadata": {
        "id": "nQQ5ZAGCwbEt",
        "outputId": "a6eece0e-8215-4170-d197-f9237d8ae796",
        "colab": {
          "base_uri": "https://localhost:8080/",
          "height": 35
        }
      },
      "source": [
        "test_loss, test_acc = network.evaluate(test_images_reshaped, test_labels_categorized)"
      ],
      "execution_count": null,
      "outputs": [
        {
          "output_type": "stream",
          "text": [
            "313/313 [==============================] - 1s 2ms/step - loss: 0.6515 - accuracy: 0.9638\n"
          ],
          "name": "stdout"
        }
      ]
    },
    {
      "cell_type": "markdown",
      "metadata": {
        "id": "-s6HYrGu6f3r"
      },
      "source": [
        "## 정규화하고 학습시키기\n",
        "- 엥? 왜 255 로 나누는 거죠? 하는 사람이 혹시나 있을까봐.\n",
        "- 이론상으로는 더 \"효율적으로 학습된다\" 라는 것을 들어 본 사람은 있을 것입니다.\n",
        "- 위에서는, 정규화 과정 (255 로 나누는 과정) 이 없어도 학습은 된다 라는 것을 보여주었고 아래에서는, 정규화로 학습하는 과정을 보여 줍니다.\n",
        "- 255 로 나누면 더 \"학습이 빠르고 안정적으로\" 이루어질 수 있습니다.\n",
        "- 어떤 근거로 이렇게 이야기했는지는, 차차 알게 될 것입니다. 지금은 큰 그림을 위해 무시합시다."
      ]
    },
    {
      "cell_type": "code",
      "metadata": {
        "id": "atAohGxjzqk_",
        "outputId": "ac8e98e0-69a4-4538-b81c-7179b219ab7d",
        "colab": {
          "base_uri": "https://localhost:8080/",
          "height": 483
        }
      },
      "source": [
        "train_images_reshaped_scaled = train_images_reshaped.astype('float32') / 255 # 위 그래프에 보이듯 0~255 의 범위에 있지요. 이를 0~1 의 범위로 축소시켜 주도록 합니다.\n",
        "test_images_reshaped_scaled  = test_images_reshaped.astype('float32') / 255\n",
        "\n",
        "plt.figure(figsize = [15,8])\n",
        "\n",
        "plt.subplot(1,2,1) \n",
        "plt.hist(train_images_reshaped_scaled[0]) # 이 5 라는 이미지의 픽셀값들이 가지는 값들이 어느 범위에 분포해 있는지 봅시다. 아까와는 다르게, x 축의 범위가 0에서 1 사이겠지요?\n",
        "\n",
        "plt.subplot(1,2,2)\n",
        "plt.imshow(train_images_reshaped_scaled[0].reshape(28,28)) # x 의 범위가 어떻게 표현이 되어있든, imshow() 는 x 의 범위를 적절히 이해하고 (0~1 float 로 인코딩 되어있는지, 0~255  int 로 인코딩 되어있는지 판단) 그림을 그려 줍니다.\n",
        "plt.show()"
      ],
      "execution_count": null,
      "outputs": [
        {
          "output_type": "display_data",
          "data": {
            "image/png": "[encoded data removed]",
            "text/plain": [
              "<Figure size 1080x576 with 2 Axes>"
            ]
          },
          "metadata": {
            "tags": [],
            "needs_background": "light"
          }
        }
      ]
    },
    {
      "cell_type": "code",
      "metadata": {
        "id": "6mecKC3a7Fn8",
        "outputId": "ecbe0787-07c8-4210-d72f-c3ae3ebd1a73",
        "colab": {
          "base_uri": "https://localhost:8080/",
          "height": 233
        }
      },
      "source": [
        "network.compile(optimizer='rmsprop', loss='categorical_crossentropy', metrics=['accuracy'])\n",
        "network.summary()"
      ],
      "execution_count": null,
      "outputs": [
        {
          "output_type": "stream",
          "text": [
            "Model: \"sequential\"\n",
            "_________________________________________________________________\n",
            "Layer (type)                 Output Shape              Param #   \n",
            "=================================================================\n",
            "dense (Dense)                (None, 512)               401920    \n",
            "_________________________________________________________________\n",
            "dense_1 (Dense)              (None, 10)                5130      \n",
            "=================================================================\n",
            "Total params: 407,050\n",
            "Trainable params: 407,050\n",
            "Non-trainable params: 0\n",
            "_________________________________________________________________\n"
          ],
          "name": "stdout"
        }
      ]
    },
    {
      "cell_type": "code",
      "metadata": {
        "id": "k_NecmGV6p80",
        "outputId": "abd969d3-5358-4ea5-fedd-c3361e16c936",
        "colab": {
          "base_uri": "https://localhost:8080/",
          "height": 215
        }
      },
      "source": [
        "network.fit(train_images_reshaped_scaled, train_labels_categorized, epochs = 5, batch_size = 128)"
      ],
      "execution_count": null,
      "outputs": [
        {
          "output_type": "stream",
          "text": [
            "Epoch 1/5\n",
            "469/469 [==============================] - 4s 8ms/step - loss: 0.1666 - accuracy: 0.9594\n",
            "Epoch 2/5\n",
            "469/469 [==============================] - 4s 8ms/step - loss: 0.0713 - accuracy: 0.9790\n",
            "Epoch 3/5\n",
            "469/469 [==============================] - 4s 8ms/step - loss: 0.0485 - accuracy: 0.9851\n",
            "Epoch 4/5\n",
            "469/469 [==============================] - 4s 8ms/step - loss: 0.0344 - accuracy: 0.9898\n",
            "Epoch 5/5\n",
            "469/469 [==============================] - 4s 8ms/step - loss: 0.0257 - accuracy: 0.9928\n"
          ],
          "name": "stdout"
        },
        {
          "output_type": "execute_result",
          "data": {
            "text/plain": [
              "<tensorflow.python.keras.callbacks.History at 0x7fcd93fc6b70>"
            ]
          },
          "metadata": {
            "tags": []
          },
          "execution_count": 15
        }
      ]
    },
    {
      "cell_type": "code",
      "metadata": {
        "id": "__Fh0b9j6qSF",
        "outputId": "ee195b15-6697-43b4-a701-4ec66bec941b",
        "colab": {
          "base_uri": "https://localhost:8080/",
          "height": 35
        }
      },
      "source": [
        "test_loss, test_acc = network.evaluate(test_images_reshaped_scaled, test_labels_categorized)"
      ],
      "execution_count": null,
      "outputs": [
        {
          "output_type": "stream",
          "text": [
            "313/313 [==============================] - 0s 2ms/step - loss: 0.0585 - accuracy: 0.9830\n"
          ],
          "name": "stdout"
        }
      ]
    },
    {
      "cell_type": "markdown",
      "metadata": {
        "id": "dMp1V2Gb7vpn"
      },
      "source": [
        "## 학습된 모델 사용해 보기"
      ]
    },
    {
      "cell_type": "code",
      "metadata": {
        "id": "1M5FZw9K5c7w",
        "outputId": "80babe9b-c971-4924-ec35-9d33b1dd5edf",
        "colab": {
          "base_uri": "https://localhost:8080/",
          "height": 337
        }
      },
      "source": [
        "# 이 학습된 것을 어떻게 사용할 수 있을까\n",
        "print(test_images_reshaped_scaled[0].shape)\n",
        "print(test_images_reshaped_scaled[0].reshape(1, 28*28).shape)\n",
        "answer = network.predict(test_images_reshaped_scaled[0].reshape(1, 28*28))\n",
        "print('예측 결과 : ', answer.argmax())\n",
        "plt.figure()\n",
        "plt.imshow(test_images_reshaped_scaled[0].reshape(28, 28))"
      ],
      "execution_count": null,
      "outputs": [
        {
          "output_type": "stream",
          "text": [
            "(784,)\n",
            "(1, 784)\n",
            "예측 결과 :  7\n"
          ],
          "name": "stdout"
        },
        {
          "output_type": "execute_result",
          "data": {
            "text/plain": [
              "<matplotlib.image.AxesImage at 0x7fcd92ddeac8>"
            ]
          },
          "metadata": {
            "tags": []
          },
          "execution_count": 17
        },
        {
          "output_type": "display_data",
          "data": {
            "image/png": "[encoded data removed]",
            "text/plain": [
              "<Figure size 432x288 with 1 Axes>"
            ]
          },
          "metadata": {
            "tags": [],
            "needs_background": "light"
          }
        }
      ]
    },
    {
      "cell_type": "markdown",
      "metadata": {
        "id": "5X78uQbR126g"
      },
      "source": [
        "# 신경망을 위한 데이터표현\n",
        "- dimension, axis, shape,\n",
        "- dtype"
      ]
    },
    {
      "cell_type": "code",
      "metadata": {
        "id": "nQz2qII612kt",
        "outputId": "1b963209-d91e-43c2-d369-6c43b46ba795",
        "colab": {
          "base_uri": "https://localhost:8080/",
          "height": 71
        }
      },
      "source": [
        "import numpy as np\n",
        "x = np.array(12)\n",
        "print('데이터 :', x)\n",
        "print('데이터의 모양 :', x.shape)\n",
        "print('데이터의 diension, 또는 axis, 또는 rank :', x.ndim)"
      ],
      "execution_count": null,
      "outputs": [
        {
          "output_type": "stream",
          "text": [
            "데이터 : 12\n",
            "데이터의 모양 : ()\n",
            "데이터의 diension, 또는 axis, 또는 rank : 0\n"
          ],
          "name": "stdout"
        }
      ]
    },
    {
      "cell_type": "markdown",
      "metadata": {
        "id": "JkoSWOvU2j7e"
      },
      "source": [
        "### 중요한 notation\n",
        "- 차원 (dimension) 을 축 (axis) 이라고도 한다.\n",
        "- tensor 의 축 개수 (axis) 를 rank 라고 한다. (이때, 선형대수-행렬 에서 span 과 관련된 rank 와는 다른 의미!)"
      ]
    },
    {
      "cell_type": "code",
      "metadata": {
        "id": "EGzfv15y2Uf1",
        "outputId": "63bd4b87-dba4-4abc-ba1c-84d079a00ae3",
        "colab": {
          "base_uri": "https://localhost:8080/",
          "height": 89
        }
      },
      "source": [
        "x = np.array([12, 3, 6, 14, 7])\n",
        "print('데이터 :', x)\n",
        "print('데이터의 모양 :', x.shape)\n",
        "print('데이터의 diension, 또는 axis, 또는 rank :', x.ndim) # vector, 1D tensor\n",
        "print('자료형 :', x.dtype)"
      ],
      "execution_count": null,
      "outputs": [
        {
          "output_type": "stream",
          "text": [
            "데이터 : [12  3  6 14  7]\n",
            "데이터의 모양 : (5,)\n",
            "데이터의 diension, 또는 axis, 또는 rank : 1\n",
            "자료형 : int64\n"
          ],
          "name": "stdout"
        }
      ]
    },
    {
      "cell_type": "code",
      "metadata": {
        "id": "jYQ5rI3G3uN-",
        "outputId": "6d152a25-2cd2-493f-f49b-cc165d7d074e",
        "colab": {
          "base_uri": "https://localhost:8080/",
          "height": 143
        }
      },
      "source": [
        "x = np.array([[12, 30, 63, 14, 7], [18, 31, 62, 14, 7], [12, 32, 61, 10, 8]])\n",
        "print('데이터 :\\n', x)\n",
        "print('데이터의 모양 :', x.shape)\n",
        "print('데이터의 diension, 또는 axis, 또는 rank :', x.ndim) #  5D matrix (선형대수에서는 열벡터의 개수), 2D tensor\n",
        "print('자료형 :', x.dtype)"
      ],
      "execution_count": null,
      "outputs": [
        {
          "output_type": "stream",
          "text": [
            "데이터 :\n",
            " [[12 30 63 14  7]\n",
            " [18 31 62 14  7]\n",
            " [12 32 61 10  8]]\n",
            "데이터의 모양 : (3, 5)\n",
            "데이터의 diension, 또는 axis, 또는 rank : 2\n",
            "자료형 : int64\n"
          ],
          "name": "stdout"
        }
      ]
    },
    {
      "cell_type": "code",
      "metadata": {
        "id": "xTL6m9h-33Kp",
        "outputId": "2dbe9965-87ad-4fea-aae4-3b31e0f9e01a",
        "colab": {
          "base_uri": "https://localhost:8080/",
          "height": 215
        }
      },
      "source": [
        "x = np.array([[[12, 30, 63, 14, 7], [18, 31, 62, 14, 7], [12, 32, 61, 10, 8]], [[12, 30, 63, 14, 7], [18, 31, 62, 14, 7], [12, 32, 61, 10, 8]]])\n",
        "print('데이터 :\\n', x)\n",
        "print('데이터의 모양 :', x.shape)\n",
        "print('데이터의 diension, 또는 axis, 또는 rank :', x.ndim) #  3D tensor\n",
        "print('자료형 :', x.dtype)"
      ],
      "execution_count": null,
      "outputs": [
        {
          "output_type": "stream",
          "text": [
            "데이터 :\n",
            " [[[12 30 63 14  7]\n",
            "  [18 31 62 14  7]\n",
            "  [12 32 61 10  8]]\n",
            "\n",
            " [[12 30 63 14  7]\n",
            "  [18 31 62 14  7]\n",
            "  [12 32 61 10  8]]]\n",
            "데이터의 모양 : (2, 3, 5)\n",
            "데이터의 diension, 또는 axis, 또는 rank : 3\n",
            "자료형 : int64\n"
          ],
          "name": "stdout"
        }
      ]
    },
    {
      "cell_type": "markdown",
      "metadata": {
        "id": "bf2bqCa69Sen"
      },
      "source": [
        "이제 우리가 실습 코드로 작성했던 train_images 라는 변수에 들어 있는 이미지 데이터가 어떤 모습으로 변해가는지에 대한 내용을 다시 맨 위로 올라가 잘 생각해 봅시다."
      ]
    },
    {
      "cell_type": "markdown",
      "metadata": {
        "id": "j7T5jQbACSu6"
      },
      "source": [
        "## 텐서 슬라이싱"
      ]
    },
    {
      "cell_type": "code",
      "metadata": {
        "id": "9gt4HGP24xG4",
        "outputId": "b02a946d-6400-4928-8d30-d10763a0cb6b",
        "colab": {
          "base_uri": "https://localhost:8080/",
          "height": 53
        }
      },
      "source": [
        "# 이미지 변수의 0번째 축 : 이미지의 번호 (첫 번째 축(axis, dimension, rank) 이므로 배치 축 (batch dimension, sample dimension) 라고 생각할 수 있겠지요.)\n",
        "# 이미지 변수의 1번째 축 : n 번째 이미지의 행\n",
        "# 이미지 변수의 2번째 축 : n 번째 이미지의 열\n",
        "\n",
        "# 아래 두 표현은 동일함\n",
        "print(train_images[10:100].shape)\n",
        "print(train_images[10:100, : , : ].shape)"
      ],
      "execution_count": null,
      "outputs": [
        {
          "output_type": "stream",
          "text": [
            "(90, 28, 28)\n",
            "(90, 28, 28)\n"
          ],
          "name": "stdout"
        }
      ]
    },
    {
      "cell_type": "markdown",
      "metadata": {
        "id": "NbZkiNfLDvuY"
      },
      "source": [
        "### 텐서의 실제 사례\n",
        "\n",
        "- 벡터 데이터에서는 (배치, 특징)\n",
        "- 시계열 데이터에서는 (배치, 시간, 특징)\n",
        "- 이미지 데이터에서는 (배치, 세로축(행) 특징, 가로축(열) 특징, (RGB따위의)채널) : tensorflow 와 같은 프레임워크에서, channel last 라고 함.\n",
        "- 이미지 데이터에서는 (배치, (RGB따위의)채널, 세로축(행) 특징, 가로축(열) 특징) : pytorch 와 같은 프레임워크에서, channel first 라고 함.\n",
        "- 동영상 데이터에서는 (배치, 시간, 세로축(행) 특징, 가로축(열) 특징, (RGB따위의)채널) : tensorflow 와 같은 프레임워크에서, channel last 라고 함.\n",
        "- 동영상 데이터에서는 (배치, 시간,  (RGB따위의)채널, 세로축(행) 특징, 가로축(열) 특징) : pytorch 와 같은 프레임워크에서, channel first 라고 함.\n",
        "\n",
        "이것은 convention 일 뿐, 데이터를 어떻게 해석하느냐에 따라서 각 축의 의미는 달라집니다! 하지만 대부분의 연구들이 저러한 방식으로 데이터를 가공하고 처리하기 때문에, 반드시 숙지하고 있어야 합니다. 차차 익숙해질 것이라고 생각합니다."
      ]
    },
    {
      "cell_type": "code",
      "metadata": {
        "id": "TRqrv6zpAteh",
        "outputId": "82f1222f-5e6e-4720-db43-b00a7546fa9c",
        "colab": {
          "base_uri": "https://localhost:8080/",
          "height": 482
        }
      },
      "source": [
        "# 0번째 이미지를 가지고 가공해 봅시다.\n",
        "print(train_images[0  : , : ].shape)\n",
        "print(train_images[0, 15: , 15: ].shape)\n",
        "\n",
        "# 이미지 하나의 행과 열은, 행렬(Matrix) 처럼 왼쪽 위가 원점입니다.\n",
        "plt.figure(figsize = [15,8])\n",
        "plt.subplot(1,2,1)\n",
        "plt.imshow(train_images[0])\n",
        "plt.subplot(1,2,2)\n",
        "plt.imshow(train_images[0, 15:, 15:])"
      ],
      "execution_count": null,
      "outputs": [
        {
          "output_type": "stream",
          "text": [
            "(60000, 28, 28)\n",
            "(13, 13)\n"
          ],
          "name": "stdout"
        },
        {
          "output_type": "execute_result",
          "data": {
            "text/plain": [
              "<matplotlib.image.AxesImage at 0x7fcd925b4c88>"
            ]
          },
          "metadata": {
            "tags": []
          },
          "execution_count": 23
        },
        {
          "output_type": "display_data",
          "data": {
            "image/png": "[encoded data removed]",
            "text/plain": [
              "<Figure size 1080x576 with 2 Axes>"
            ]
          },
          "metadata": {
            "tags": [],
            "needs_background": "light"
          }
        }
      ]
    },
    {
      "cell_type": "markdown",
      "metadata": {
        "id": "IyulYeiwFVbZ"
      },
      "source": [
        "# 신경망의 톱니바퀴 : 텐서 연산 (tensor ops)"
      ]
    },
    {
      "cell_type": "code",
      "metadata": {
        "id": "L8zThQC6CVXD"
      },
      "source": [
        "# elementwise operation : 원소 별 연산.\n",
        "# 앞으로 배울 내용들을 살펴보면, 원소별로 연산하지 않고, 채널을 단위로 연산하거나 하는 경우가 있습니다.\n",
        "# 당연히 원소끼리 연산하는거지 ㅡ.ㅡ 하는 의문이 있을까봐 첨언합니다.\n",
        "\n",
        "def relu_vector(x) : # batch 가 있는 vector 데이터 : (배치, 특징) 일 때에만 작동하는 함수이기 때문에 이름을 바꿈.\n",
        "  # assert len(x.shape) == 2 # 이 코드는, input 으로 이상한 값이 들어오지 않도록 제한해주는 코드일 뿐입니다.\n",
        "  x = x.copy()\n",
        "  for i in range(x.shape[0]):\n",
        "    for j in range(x.shape[1]):\n",
        "      x[i, j] = max(x[i, j], 0)\n",
        "  return x\n",
        "\n",
        "def add_vector(x, y) :\n",
        "  x = x.copy()\n",
        "  for i in range(x.shape[0]):\n",
        "    for j in range(x.shape[1]):\n",
        "      x[i, j] = x[i, j] + y[i, j]\n",
        "  return x\n",
        "\n",
        "# 우리가 이런 것들을 실제로 만들어 사용하지 않는 이유는, numpy 라는 친구가 엄청나게 빠른 속도를 자랑하기 때문입니다.\n",
        "# tensorflow 에서 relu 와 같은 레이어, add 와 같은 연산자들은 결국 numpy 와 같은 친구들로 바꾸어서 하드웨어적으로 최적화되도록 계산해서 우리가 만들어 쓰는 함수보다 빠를 수 있습니다."
      ],
      "execution_count": null,
      "outputs": []
    },
    {
      "cell_type": "code",
      "metadata": {
        "id": "KWUPZQfjH-zn",
        "outputId": "8ecf3e8a-87a9-4a97-8955-1ac8000a1ae9",
        "colab": {
          "base_uri": "https://localhost:8080/",
          "height": 251
        }
      },
      "source": [
        "vector1 = np.array([[-2, -1, 0, 1, 2, 3], [-20, -10, 0, 10, 20, 30]])\n",
        "vector2 = np.array([[-3, -1, 0, 1, 3, 5], [-15, -5, 0, 15, 16, 17]])\n",
        "\n",
        "answer = relu_vector(vector1)\n",
        "print(vector1, '\\n->\\n', answer)\n",
        "\n",
        "print('\\n----\\n')\n",
        "\n",
        "answer = relu_vector(vector2)\n",
        "print(vector2, '\\n->\\n', answer)"
      ],
      "execution_count": null,
      "outputs": [
        {
          "output_type": "stream",
          "text": [
            "[[ -2  -1   0   1   2   3]\n",
            " [-20 -10   0  10  20  30]] \n",
            "->\n",
            " [[ 0  0  0  1  2  3]\n",
            " [ 0  0  0 10 20 30]]\n",
            "\n",
            "----\n",
            "\n",
            "[[ -3  -1   0   1   3   5]\n",
            " [-15  -5   0  15  16  17]] \n",
            "->\n",
            " [[ 0  0  0  1  3  5]\n",
            " [ 0  0  0 15 16 17]]\n"
          ],
          "name": "stdout"
        }
      ]
    },
    {
      "cell_type": "code",
      "metadata": {
        "id": "vKFKRLVcI8H5",
        "outputId": "a7999cde-aad1-4d87-9df9-c501d8056d62",
        "colab": {
          "base_uri": "https://localhost:8080/",
          "height": 53
        }
      },
      "source": [
        "answer = add_vector(vector1, vector2)\n",
        "print(answer)"
      ],
      "execution_count": null,
      "outputs": [
        {
          "output_type": "stream",
          "text": [
            "[[ -5  -2   0   2   5   8]\n",
            " [-35 -15   0  25  36  47]]\n"
          ],
          "name": "stdout"
        }
      ]
    },
    {
      "cell_type": "code",
      "metadata": {
        "id": "pbh9zKIoJDxq",
        "outputId": "05c4fce6-0130-4bed-e446-06c69ced9422",
        "colab": {
          "base_uri": "https://localhost:8080/",
          "height": 53
        }
      },
      "source": [
        "answer = relu_vector(add_vector(vector1, vector2))\n",
        "print(answer)"
      ],
      "execution_count": null,
      "outputs": [
        {
          "output_type": "stream",
          "text": [
            "[[ 0  0  0  2  5  8]\n",
            " [ 0  0  0 25 36 47]]\n"
          ],
          "name": "stdout"
        }
      ]
    },
    {
      "cell_type": "code",
      "metadata": {
        "id": "YINen9cKJPxz",
        "outputId": "99279c4e-f2dd-4242-fda1-9383f80cd955",
        "colab": {
          "base_uri": "https://localhost:8080/",
          "height": 53
        }
      },
      "source": [
        "# numpy 를 활용하면 이렇게 코드를 절약할 수 있겠지요.\n",
        "# numpy 자료형의 벡터와 numpy 자료형의 벡터 사이에서 + 연산은, vector 합으로 자동적으로 처리됩니다.\n",
        "answer = np.maximum(vector1 + vector2, 0)\n",
        "print(answer)"
      ],
      "execution_count": null,
      "outputs": [
        {
          "output_type": "stream",
          "text": [
            "[[ 0  0  0  2  5  8]\n",
            " [ 0  0  0 25 36 47]]\n"
          ],
          "name": "stdout"
        }
      ]
    },
    {
      "cell_type": "markdown",
      "metadata": {
        "id": "7Z6IMk9kKJ2g"
      },
      "source": [
        "### 브로드캐스팅"
      ]
    },
    {
      "cell_type": "code",
      "metadata": {
        "id": "f2O08zqRJpQs",
        "outputId": "6a099023-8021-46e5-8c6d-50e30d947e2a",
        "colab": {
          "base_uri": "https://localhost:8080/",
          "height": 485
        }
      },
      "source": [
        "tensor1 = np.random.random((5,4,3))\n",
        "vector3 = np.random.random((4,3))\n",
        "\n",
        "\n",
        "print(tensor1.shape)\n",
        "print(vector3.shape)\n",
        "print(tensor1 + vector3) # 더해지면 안되는건데 더해짐."
      ],
      "execution_count": null,
      "outputs": [
        {
          "output_type": "stream",
          "text": [
            "(5, 4, 3)\n",
            "(4, 3)\n",
            "[[[1.1376763  1.05497201 0.81407178]\n",
            "  [1.44092513 1.52225968 1.13720322]\n",
            "  [0.74501039 1.16060411 0.67721988]\n",
            "  [0.56475009 1.14707196 1.13633278]]\n",
            "\n",
            " [[1.35025367 0.69186932 1.03771429]\n",
            "  [0.83592969 1.60394599 1.25475727]\n",
            "  [0.66215324 1.02369619 1.20515787]\n",
            "  [1.28857956 1.1030552  1.6737058 ]]\n",
            "\n",
            " [[1.48249115 0.99035222 0.57224948]\n",
            "  [1.75437669 1.72436472 1.31630929]\n",
            "  [0.8444174  1.47714867 0.37181376]\n",
            "  [0.77615635 0.52106951 1.79937224]]\n",
            "\n",
            " [[1.39816608 0.82490622 0.58884612]\n",
            "  [1.42869632 1.53077614 1.40278317]\n",
            "  [0.51121263 0.93876191 0.61308498]\n",
            "  [0.46888091 1.01921092 1.17851818]]\n",
            "\n",
            " [[1.20889126 0.21676753 1.19964586]\n",
            "  [1.65305845 1.82366366 1.14671359]\n",
            "  [0.33383294 1.87456806 0.88585457]\n",
            "  [0.60912893 0.57962443 0.90174236]]]\n"
          ],
          "name": "stdout"
        }
      ]
    },
    {
      "cell_type": "code",
      "metadata": {
        "id": "LqTBQOY-0Hyx",
        "outputId": "c3113685-65ae-4768-e1d3-cb1e0b017e21",
        "colab": {
          "base_uri": "https://localhost:8080/",
          "height": 953
        }
      },
      "source": [
        "tensor1 = np.random.random((2, 5,4,3))\n",
        "vector3 = np.random.random((4,3))\n",
        "\n",
        "\n",
        "print(tensor1.shape)\n",
        "print(vector3.shape)\n",
        "print(tensor1 + vector3) # 더해지면 안되는건데 더해짐."
      ],
      "execution_count": null,
      "outputs": [
        {
          "output_type": "stream",
          "text": [
            "(2, 5, 4, 3)\n",
            "(4, 3)\n",
            "[[[[1.30169    1.85573049 0.74860224]\n",
            "   [1.36894696 0.69306449 0.96917198]\n",
            "   [1.10228925 1.04296546 1.15360094]\n",
            "   [0.45031413 0.5649066  0.92186004]]\n",
            "\n",
            "  [[0.82564891 1.75606826 0.65555672]\n",
            "   [0.76340672 1.12192461 1.2124471 ]\n",
            "   [1.59875186 1.66984771 1.06298503]\n",
            "   [0.89197474 0.79979654 0.43391686]]\n",
            "\n",
            "  [[0.76817543 1.61869349 0.59185564]\n",
            "   [0.77963862 0.60855628 0.64870608]\n",
            "   [1.30682201 1.20298999 1.80778487]\n",
            "   [0.58001108 0.83195679 0.92689582]]\n",
            "\n",
            "  [[0.61297029 1.02058315 0.55959555]\n",
            "   [1.19155279 1.0175426  0.77544877]\n",
            "   [1.00997903 0.96082225 1.57334507]\n",
            "   [1.07131531 0.48288264 1.36107282]]\n",
            "\n",
            "  [[0.46610387 1.58802923 1.13539979]\n",
            "   [0.56071253 0.98353563 1.17101737]\n",
            "   [1.47253182 1.33887408 1.01277725]\n",
            "   [1.14562724 0.51308198 1.12580808]]]\n",
            "\n",
            "\n",
            " [[[0.74362143 1.68942356 0.52335879]\n",
            "   [1.37653755 1.14168504 0.51427558]\n",
            "   [1.13366504 1.34178656 1.0270249 ]\n",
            "   [1.34259805 1.30000408 1.35269985]]\n",
            "\n",
            "  [[1.29106429 1.09396085 0.59123583]\n",
            "   [1.08203026 0.30025422 0.42621089]\n",
            "   [1.43600103 1.70396199 1.24112581]\n",
            "   [0.83801885 1.31292944 1.06651934]]\n",
            "\n",
            "  [[0.52029299 1.74737407 1.12438568]\n",
            "   [0.66284995 0.4128989  1.20078984]\n",
            "   [1.59940367 1.109582   0.96670973]\n",
            "   [0.5280166  1.16310152 1.27718952]]\n",
            "\n",
            "  [[0.54805318 1.99022863 0.60592505]\n",
            "   [0.62930794 0.31648874 0.73622434]\n",
            "   [1.17674071 1.27937563 1.76053414]\n",
            "   [0.71171139 1.1670704  0.42510255]]\n",
            "\n",
            "  [[0.41804175 1.21177495 0.81958799]\n",
            "   [1.2317985  1.15251063 0.38998458]\n",
            "   [0.97141602 1.13069474 1.26916656]\n",
            "   [0.35812724 0.91261524 1.30974152]]]]\n"
          ],
          "name": "stdout"
        }
      ]
    },
    {
      "cell_type": "markdown",
      "metadata": {
        "id": "wbrBq4gfwm9r"
      },
      "source": [
        "### 아직 안 와닿으시는 분들께\n",
        "\n",
        "텐서 슬라이싱, 텐서의 축, 브로드캐스팅... 너무 많고 자잘한 것 같습니다. 인공지능을 배우고자 했는데 이상한 것을 공부하는 느낌이랄까? 너무 사소하게 느껴지곤 하지요. 이걸 왜 해야 하는건지, 잘 모르겠다고 생각하는 경우가 있습니다. 저 또한 그랬고, 지금도 사실 이걸 해야하는지는 잘 모릅니다. 하지만, 분명한 것은 많이 사용된다는 것입니다. 아래에서 간단한 예를 들어 드릴 것입니다. 처음에는 어려운 예일 수 있으니, 나중에 실력이 향상되어 다시 본다면 크게 실력향상을 도울 수 있는 예시일 것입니다!\n"
      ]
    },
    {
      "cell_type": "markdown",
      "metadata": {
        "id": "M8phJw6isP23"
      },
      "source": [
        "브로드캐스팅으로 예를 들어 보겠습니다. 이러한 브로드캐스팅은 꽤나 자주 이용되는 편입니다. 나중에는, YOLO v1 이라는 신기한 모델을 구현해보는 시간을 가질 것인데, 거기의 코드 일부를 발췌해 보겠습니다. (발췌된 코드이기 때문에 실제로 실행이 되지는 않습니다.) 나중에 여러분의 실력이 쌓였을 때, 다시 돌아와보도록 합시다!"
      ]
    },
    {
      "cell_type": "code",
      "metadata": {
        "id": "CpkV7lGPsPX9"
      },
      "source": [
        "def loss(y_true, y_pred):\n",
        "\n",
        "  # .... 초략\n",
        "\n",
        "    box_mask = K.expand_dims(box_mask)                # 예측값 : ? * 7 * 7 * 2 * 1 # 각 cell 의 box 들과 정답의 iou 중에 가장 높은 애들의 위치에만 1 이 표시된 mask. 각 원소들에 대한 하나의 차원이 더 싸여 있다.\n",
        "    response_mask = K.expand_dims(response_mask)      # 정답값 : ? * 7 * 7 * 1 * 1\n",
        "\n",
        "    box_loss = 5 * box_mask * response_mask * K.square((label_xy - predict_xy) / 448)\n",
        "    # 해설\n",
        "    # 5 : 그냥 람다\n",
        "    # box_mask * response_mask : 내가 관심있는 부분 (1obj)\n",
        "    # K.square((label_xy - predict_xy) / 448) : 해당 grid 가 맡고 있는 구역에서 regression 한 값들의 차를 0~1 범위로 regularization 하고 square\n",
        "    # 정리하면, 정답값 물체가 존재하는 부분은 1이고 없는부분은 0이니까, 해당 grid 중, 예측값이랑 실제 물체 존재여부가 일치하는 곳에 대해서만 연산하여 loss 로 더해주겠다는 뜻.\n",
        "    box_loss += 5 * box_mask * response_mask * K.square((K.sqrt(label_wh) - K.sqrt(predict_wh)) / 448)\n",
        "    box_loss = K.sum(box_loss)\n",
        "\n",
        "\n",
        "  # .... 하략"
      ],
      "execution_count": null,
      "outputs": []
    },
    {
      "cell_type": "code",
      "metadata": {
        "id": "vBgBRHKZxX_G"
      },
      "source": [
        "# Loss 전체 코드가 궁금하신 분들을 위해 https://www.maskaravivek.com/post/yolov1/ 에서 구현된 코드를 준비했습니다.\n",
        "# 지금 이것을 이해할 필요는 없고, 위 코드 조각에서 보이듯, 브로드캐스팅이 실제로 쓰이기는 하는구나... 를 느끼시면 됩니다.\n",
        "# 그래도 궁금하시면, 코드를 조금 훑어보세요. 텐서의 슬라이싱, 텐서의 축 (axis) 과 차원 (dimension) 이 모두 녹아 있다는 것을 알 수 있습니다.\n",
        "# 누가 이 사실을 조금만 더 빨리 알려줬더라면, 저도 발전이 더 빨랐을 텐데요 :)\n",
        "                                                 \n",
        "def yolo_loss(y_true, y_pred):\n",
        "    \n",
        "    # 정답\n",
        "    # 정답을 보관하고 있는 label_matrix 는 [0:25] 까지밖에 없었지.\n",
        "    label_class   = y_true[..., :20]              # ? * 7 * 7 * 20\n",
        "    label_box     = y_true[..., 20:24]            # ? * 7 * 7 * 4\n",
        "    response_mask = y_true[..., 24]               # ? * 7 * 7\n",
        "    response_mask = K.expand_dims(response_mask)  # ? * 7 * 7 * 1\n",
        "\n",
        "    # 추론\n",
        "    # 결과값은 [0:(C+5B)] 즉, [0:30] 의 채널을 가지고 있음.\n",
        "    predict_class = y_pred[..., :20]      # ? * 7 * 7 * 20\n",
        "    predict_trust = y_pred[..., 20:22]    # ? * 7 * 7 * 2   *여기서 predict_trust 는 confidence 를 의미하는 것일 것이다.\n",
        "    predict_box   = y_pred[..., 22:]      # ? * 7 * 7 * 8\n",
        "\n",
        "\n",
        "    # 저기서 [-2] 의 위치의 채널 둘을 비교해서, \"딱 맞는\" bbox localization 결과물과 정답을 비교하려고 모양 변경\n",
        "    _label_box = K.reshape(label_box, [-1, 7, 7, 1, 4])     # batch * S * S * 1    * wywh\n",
        "    _predict_box = K.reshape(predict_box, [-1, 7, 7, 2, 4]) # batch * S * S * bbox * xywh\n",
        "\n",
        "\n",
        "    # 정답\n",
        "    # x와 y에 대한 localization / w과 h에 대한 localization 식이 다름. 둘의 채널(?) 을 분리시켜 줌.\n",
        "    label_xy, label_wh = yolo_head(_label_box)  # ? * 7 * 7 * 1 * 2, ? * 7 * 7 * 1 * 2\n",
        "    label_xy = K.expand_dims(label_xy, 3)       # ? * 7 * 7 * 1 * 1 * 2\n",
        "    label_wh = K.expand_dims(label_wh, 3)       # ? * 7 * 7 * 1 * 1 * 2\n",
        "    # 각 grid cell 이 (xmin,ymin), (xmax,ymax) 값을 담고 있는 상태로 변경\n",
        "    label_xy_min, label_xy_max = xywh2minmax(label_xy, label_wh)  # ? * 7 * 7 * 1 * 1 * 2, ? * 7 * 7 * 1 * 1 * 2\n",
        "\n",
        "    # 추론\n",
        "    # x와 y에 대한 localization / w과 h에 대한 localization 식이 다름. 둘의 채널(?) 을 분리시켜 줌.\n",
        "    predict_xy, predict_wh = yolo_head(_predict_box)  # ? * 7 * 7 * 2 * 2, ? * 7 * 7 * 2 * 2\n",
        "    predict_xy = K.expand_dims(predict_xy, 4)         # ? * 7 * 7 * 2 * 1 * 2\n",
        "    predict_wh = K.expand_dims(predict_wh, 4)         # ? * 7 * 7 * 2 * 1 * 2\n",
        "    # 각 grid cell 이 (xmin,ymin), (xmax,ymax) 값을 담고 있는 상태로 변경\n",
        "    predict_xy_min, predict_xy_max = xywh2minmax(predict_xy, predict_wh)  # ? * 7 * 7 * 2 * 1 * 2, ? * 7 * 7 * 2 * 1 * 2\n",
        "\n",
        "\n",
        "    iou_scores = iou(predict_xy_min, predict_xy_max, label_xy_min, label_xy_max)  # ? * 7 * 7 * 2(박스1개당 iou1개) * 1 # 아아.. iou 를 계산하면 맨 뒷 채널이 날라가서, expand 를 한 번 더 했구나.. 하는 깨달음도 함께.\n",
        "    best_ious = K.max(iou_scores, axis=4)                # ? * 7 * 7 * 2 (box2개)  # 어차피 맨 뒷채널은 iou 라 1개인데 그냥 채널 하나 없애는 효과. squeeze 와 뭐가 다른지는 잘 모르겠지만.\n",
        "    best_box  = K.max(best_ious, axis=3, keepdims=True)  # ? * 7 * 7 * 1           # 각 cell 마다 가장 높은 iou 값 하나만 따로 저장\n",
        "\n",
        "    box_mask = K.cast(best_ious >= best_box, K.dtype(best_ious))  # ? * 7 * 7 * 2 # 각 cell 의 box 들과 정답의 iou 중에 가장 높은 애들의 위치에만 1 이 표시된 mask. 이때 mask 의 dtype 과 best_iou 의 dtype 를 맞춰주어서 후에 연산할 때 편하도록.\n",
        "\n",
        "    # loss1 : confidence loss = object loss + noobject loss\n",
        "    object_loss = box_mask * response_mask * K.square(1 - predict_trust) # box mask 는 1개 channel 인데, 그것이 모든 box channel 에 대해서 자동으로 적용이 된다. (broadcasting)\n",
        "    no_object_loss = 0.5 * (1 - box_mask * response_mask) * K.square(0 - predict_trust)\n",
        "    confidence_loss = no_object_loss + object_loss\n",
        "    confidence_loss = K.sum(confidence_loss)\n",
        "\n",
        "    # loss2 : class probability loss\n",
        "    class_loss = response_mask * K.square(label_class - predict_class)\n",
        "    class_loss = K.sum(class_loss)\n",
        "\n",
        "    _label_box = K.reshape(label_box, [-1, 7, 7, 1, 4])     # batch * S * S * 1    * wywh\n",
        "    _predict_box = K.reshape(predict_box, [-1, 7, 7, 2, 4]) # batch * S * S * bbox * xywh\n",
        "\n",
        "    label_xy, label_wh = yolo_head(_label_box)        # ? * 7 * 7 * 1 * 2, ? * 7 * 7 * 1 * 2\n",
        "    predict_xy, predict_wh = yolo_head(_predict_box)  # ? * 7 * 7 * 2 * 2, ? * 7 * 7 * 2 * 2\n",
        "\n",
        "    box_mask = K.expand_dims(box_mask)                # 예측값 : ? * 7 * 7 * 2 * 1 # 각 cell 의 box 들과 정답의 iou 중에 가장 높은 애들의 위치에만 1 이 표시된 mask. 각 원소들에 대한 하나의 차원이 더 싸여 있다.\n",
        "    response_mask = K.expand_dims(response_mask)      # 정답값 : ? * 7 * 7 * 1 * 1\n",
        "\n",
        "    box_loss = 5 * box_mask * response_mask * K.square((label_xy - predict_xy) / 448)\n",
        "    # 해설\n",
        "    # 5 : 그냥 람다\n",
        "    # box_mask * response_mask : 내가 관심있는 부분 (1obj)\n",
        "    # K.square((label_xy - predict_xy) / 448) : 해당 grid 가 맡고 있는 구역에서 regression 한 값들의 차를 0~1 범위로 regularization 하고 square\n",
        "    # 정리하면, 정답값 물체가 존재하는 부분은 1이고 없는부분은 0이니까, 해당 grid 중, 예측값이랑 실제 물체 존재여부가 일치하는 곳에 대해서만 연산하여 loss 로 더해주겠다는 뜻.\n",
        "    box_loss += 5 * box_mask * response_mask * K.square((K.sqrt(label_wh) - K.sqrt(predict_wh)) / 448)\n",
        "    box_loss = K.sum(box_loss)\n",
        "\n",
        "    loss = confidence_loss + class_loss + box_loss\n",
        "\n",
        "    return loss"
      ],
      "execution_count": null,
      "outputs": []
    },
    {
      "cell_type": "markdown",
      "metadata": {
        "id": "YTj8bg92sb8c"
      },
      "source": [
        "보시다시피 위 코드에서도 브로드캐스팅이 수행됩니다. 어떻게 box_mask (? * 7 * 7 * 2 * 1) 와 response_mask (? * 7 * 7 * 1 * 1\n",
        ") 사이에서 곱셈연산이 일어날 수 있었던 걸까요? 우리가 저런 모양의 행렬을 곱셈하는 방법을 배웠나요? 이것은 numpy 와 비슷하게 데이터를 처리하는 라이브러리들의 브로드캐스팅 기능 때문입니다."
      ]
    },
    {
      "cell_type": "code",
      "metadata": {
        "id": "ekPjkUcdscHL"
      },
      "source": [
        "# 어느 차원부터 차례로 맞춰지는건지 dimension 과 shape 에 주목하면서 아래 코드를 따라와 봅시다.\n",
        "import numpy as np\n",
        "a = np.array(\n",
        "    [\n",
        "              [[1,2],[2,4],[0,3]],\n",
        "              [[4,1],[5,0],[6,2]]\n",
        "     ])\n",
        "b = np.array(\n",
        "    [\n",
        "     # img 1 (batch axis)\n",
        "              [[[1],[2]],\n",
        "               [[2],[4]],\n",
        "               [[0],[3]]],\n",
        "     \n",
        "     # img 2 (batch axis)\n",
        "              [[[4],[1]],\n",
        "               [[0],[5]],\n",
        "               [[6],[2]]],\n",
        "     ])\n",
        "\n",
        "print('\\n', a.shape)\n",
        "print(a)\n",
        "\n",
        "print('\\n', b.shape)\n",
        "print(b)\n",
        "\n",
        "print('\\n', a * [2])"
      ],
      "execution_count": null,
      "outputs": []
    },
    {
      "cell_type": "code",
      "metadata": {
        "id": "L0nU_7GjvvRG"
      },
      "source": [
        "# 어느 차원부터 차례로 맞춰지는건지 dimension 과 shape 에 주목하면서 아래 코드를 따라와 봅시다.\n",
        "\n",
        "print(a.shape)\n",
        "print(a)\n",
        "\n",
        "a2 = np.array([[1],[2], [3]])\n",
        "print('\\n', a2.shape)\n",
        "print(a2)\n",
        "\n",
        "\n",
        "result = a * a2\n",
        "print('\\n', result.shape)\n",
        "print(result)"
      ],
      "execution_count": null,
      "outputs": []
    },
    {
      "cell_type": "code",
      "metadata": {
        "id": "TpUTp2fMvxpT"
      },
      "source": [
        "# 어느 차원부터 차례로 맞춰지는건지 dimension 과 shape 에 주목하면서 아래 코드를 따라와 봅시다.\n",
        "# 왜 위의 연산과 같은 걸까요? 가장 첫번째 차원부터 맞춰진 걸까요? 가장 마지막 차원부터 맞춰진 걸까요?\n",
        "\n",
        "print(a.shape)\n",
        "print(a)\n",
        "\n",
        "a2 = np.array([[[1],[2], [3]]])\n",
        "print('\\n', a2.shape)\n",
        "print(a2)\n",
        "\n",
        "\n",
        "result = a * a2\n",
        "print('\\n', result.shape)\n",
        "print(result)"
      ],
      "execution_count": null,
      "outputs": []
    },
    {
      "cell_type": "markdown",
      "metadata": {
        "id": "ixsx9m23KNaf"
      },
      "source": [
        "### 텐서의 dot product (점곱)\n",
        "\n",
        "위 내용까지를 충실히 이해하셨다면, 접곱이 중요한 이슈가 아니라는 점을 알아차릴 수 있습니다. 그냥 특정한 경우에는 백터의 내적처럼 연산이 일어나는 현상일 뿐이지요."
      ]
    },
    {
      "cell_type": "code",
      "metadata": {
        "id": "2WpSi-BCKMNL"
      },
      "source": [
        ""
      ],
      "execution_count": null,
      "outputs": []
    },
    {
      "cell_type": "markdown",
      "metadata": {
        "id": "pTxOfFE2L8Nn"
      },
      "source": [
        "### 딥러닝의 기하학적 해석\n",
        "- 이건 제발 youtube 보세요. 3Blue1Brown 의 선형대수학이 이러한 이야기가 왜 나왔는지 시각적으로 이해하는 데 많은 도움이 됩니다.\n",
        "- 정말, 저만 숨겨두고 보고 싶을 정도로 좋은 영상인만큼 꼭 챙겨보세요."
      ]
    },
    {
      "cell_type": "markdown",
      "metadata": {
        "id": "qBIM-TvZMRCG"
      },
      "source": [
        "# 신경망의 엔진 : 그래디언트 기반 최적화 (gradient based optimization)\n",
        "\n",
        "- 이 주제에 대해서도 SAI 카카오톡방에 youtube 영상을 공유해드린 적 있고, 제가 만들어둔 youtube 재생목록에 시각적 직관을 만들어주는 좋은 영상이 많습니다.\n",
        "- SAI channel 의 재생목록을 참고하세요."
      ]
    },
    {
      "cell_type": "code",
      "metadata": {
        "id": "LaNsC6WdL_FO"
      },
      "source": [
        ""
      ],
      "execution_count": null,
      "outputs": []
    }
  ]
}