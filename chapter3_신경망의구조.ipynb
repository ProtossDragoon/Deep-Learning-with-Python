{
  "nbformat": 4,
  "nbformat_minor": 0,
  "metadata": {
    "colab": {
      "name": "chapter3-신경망의구조.ipynb",
      "provenance": [],
      "authorship_tag": "ABX9TyMIa2ffK1C4+XpNoYomjBSN",
      "include_colab_link": true
    },
    "kernelspec": {
      "name": "python3",
      "display_name": "Python 3"
    }
  },
  "cells": [
    {
      "cell_type": "markdown",
      "metadata": {
        "id": "view-in-github",
        "colab_type": "text"
      },
      "source": [
        "<a href=\"https://colab.research.google.com/github/ProtossDragoon/Deep-Learning-with-Python/blob/main/chapter3_%EC%8B%A0%EA%B2%BD%EB%A7%9D%EC%9D%98%EA%B5%AC%EC%A1%B0.ipynb\" target=\"_parent\"><img src=\"https://colab.research.google.com/assets/colab-badge.svg\" alt=\"Open In Colab\"/></a>"
      ]
    },
    {
      "cell_type": "markdown",
      "metadata": {
        "id": "_XzEoKOvgsE9"
      },
      "source": [
        "# 작성 : 2020/10/23\n",
        "\n",
        "- 이 notebook 은 SAI I Team 의 '케라스 창시자에게 배우는 딥러닝' 스터디 참고/멘토링 자료 목적으로 제작되었습니다.\n",
        "- 이 notebook 을 학습하고자 할 때, 해당 주차의 책을 모두 공부한 후 따라가는 것을 매우 추천합니다.\n",
        "- 이 코드와 주석에 설명되어있지 않다고 중요하지 않은 내용인 것은 아닙니다. 반드시 책을 선행해 주세요.\n",
        "- 제작자 github : https://github.com/ProtossDragoon\n",
        "- 질문 올리는 곳 : \n",
        "- 2020년 SAI 동아리원분들께서는, https://github.com/sju-coml/SAI-2020-Team-I/issues 에 질문을 올려주세요.\n",
        "- contact : dlwkdgn1@naver.com / dlwkdgn3@gmail.com"
      ]
    },
    {
      "cell_type": "markdown",
      "metadata": {
        "id": "-4Rkpi6LnNwa"
      },
      "source": [
        " # 신경망의 구조"
      ]
    },
    {
      "cell_type": "markdown",
      "metadata": {
        "id": "QsZ2f0lvnS3s"
      },
      "source": [
        "## 목적 함수에 대한 비유\n",
        "\n",
        "- \"전지전능한 AI\" 에 대한 비유를 들었는데, 나쁘지 않은 비유입니다. 하지만, 조금 더 구체적인 비유를 들어 보고자 합니다. 이 책이 아쉬운 점은 일부 주제에 대해서 '너무 추상적으로' 알려준다는 것입니다.\n",
        "- 상상해 봅시다. 예를 들어, 내가 100장의 이미지를 준비했습니다. 100장의 이미지를 바탕으로, 두 class 를 구분해내는 동시에, 이미지상에 어떤 사물의 위치가 어디 있는지 예측하도록 손실 함수값을 최소화시키도록 훈련시킬 것입니다.\n",
        "- 100장의 이미지 중 50장은 강아지, 50장은 고양이 사진입니다.\n",
        "- 목적 함수 (손실 함수, loss function) 를, 다음과 같이 설계했다고 생각해 봅시다.\n",
        "\n",
        "<br>\n",
        "\n",
        "목적 함수 f = (강아지나 고양이나 위치를 잘못 맞춘 정도) + (강아지나 고양이의 클래스를 잘못 맞춘 정도)\n",
        "\n",
        "<br>\n",
        "\n",
        "- 그런데 여기서 (강아지나 고양이나 위치를 잘못 맞춘 정도) 는, 이미지의 크기에 따라 달라집니다.\n",
        "- (강아지나 고양이의 클래스를 잘못 맞춘 정도) 는, 0이냐 1이냐에 따라서 달라집니다.\n",
        "- 이미지의 크기가 만약 720 x 720 pixel 이라고 하겠습니다.\n",
        "- 모델에 강아지 사진을 넣었고, 실제로 강아지에 해당하는 구역의 중심값이 (251, 623) 이었습니다.\n",
        "- 모델은 (255, 620) 을 강아지 위치의 중심이라고 생각했고, 강아지 [0.4 (고양이일 확률), 0.6 (강아지일 확률)] 라고 예측했습니다.\n",
        "- 위치는 꽤나 잘 예측했습니다. 그런데 문제는 강아지 위치의 중심과 예측값과의 거리는 4밖에 나지 않습니다. 오히려 모델이 잘못한 부분은 분류입니다.\n",
        "- 그런데, 모델이 혼내는 정도는 \"위치\" 에 따라서 5만큼 혼내지만, \"예측\" 에 따라서는 0.4만큼만 혼낸다는 점입니다. (물론, 실제로는 저러한 수치를 내는 방법이 훨씬 정교합니다.) 이는 분명히 잘못됐습니다. 이렇게 혼낸다면, 조금이라도 모델이 위치에만 집착을 하게 될 것입니다. 위치 오차를 줄이는 것이, 클래스 오류를 줄이는 것보다 훨씬 효율적일 테니까요.\n",
        "\n"
      ]
    },
    {
      "cell_type": "markdown",
      "metadata": {
        "id": "U9qIjAs4r5P0"
      },
      "source": [
        "# 영화 리뷰 분류 : 이진 분류 예제 (Classification)"
      ]
    },
    {
      "cell_type": "code",
      "metadata": {
        "id": "LGz5YqvhZ7el"
      },
      "source": [
        "from tensorflow import keras"
      ],
      "execution_count": 1,
      "outputs": []
    },
    {
      "cell_type": "code",
      "metadata": {
        "id": "27duaOcasjSd",
        "outputId": "3508ae20-c1c7-4ce2-d227-af896713b789",
        "colab": {
          "base_uri": "https://localhost:8080/",
          "height": 51
        }
      },
      "source": [
        "(train_data, train_labels), (test_data, test_labels) = keras.datasets.imdb.load_data(num_words = 10000)\n",
        "# 책에는 kears.imdb 로 되어있었지만, 패치를 거치며 이렇게 imdb 함수의 위치가 이동되었습니다."
      ],
      "execution_count": 2,
      "outputs": [
        {
          "output_type": "stream",
          "text": [
            "Downloading data from https://storage.googleapis.com/tensorflow/tf-keras-datasets/imdb.npz\n",
            "17465344/17464789 [==============================] - 0s 0us/step\n"
          ],
          "name": "stdout"
        }
      ]
    },
    {
      "cell_type": "code",
      "metadata": {
        "id": "u24f0XgBsuSE",
        "outputId": "26514593-02c9-49a4-eaec-e55656fefd5e",
        "colab": {
          "base_uri": "https://localhost:8080/",
          "height": 34
        }
      },
      "source": [
        "!ls"
      ],
      "execution_count": 3,
      "outputs": [
        {
          "output_type": "stream",
          "text": [
            "sample_data\n"
          ],
          "name": "stdout"
        }
      ]
    },
    {
      "cell_type": "code",
      "metadata": {
        "id": "pYMgmOGItEWQ",
        "outputId": "43e6421f-68a2-47e2-ee20-816307817936",
        "colab": {
          "base_uri": "https://localhost:8080/",
          "height": 102
        }
      },
      "source": [
        "print(len(train_data))\n",
        "print(len(train_data[0]))\n",
        "print(train_data[0][0 : 10])\n",
        "print(len(train_labels))\n",
        "print(train_labels[0])"
      ],
      "execution_count": 7,
      "outputs": [
        {
          "output_type": "stream",
          "text": [
            "25000\n",
            "218\n",
            "[1, 14, 22, 16, 43, 530, 973, 1622, 1385, 65]\n",
            "25000\n",
            "1\n"
          ],
          "name": "stdout"
        }
      ]
    },
    {
      "cell_type": "code",
      "metadata": {
        "id": "NFSflENmtHNm",
        "outputId": "66b36a8a-4f64-420c-d622-7cd0280cd32a",
        "colab": {
          "base_uri": "https://localhost:8080/",
          "height": 52
        }
      },
      "source": [
        "sentence_max_li = []\n",
        "for sentence in train_data :\n",
        "  sentence_max_li.append(max(sentence))\n",
        "print(max(sentence_max_li))\n",
        "\n",
        "\n",
        "\n",
        "''' \n",
        "# 아래 코드와 동치입니다.\n",
        "max([ max(i) for i in train_data ])\n",
        "'''"
      ],
      "execution_count": 15,
      "outputs": [
        {
          "output_type": "stream",
          "text": [
            "9999\n"
          ],
          "name": "stdout"
        },
        {
          "output_type": "execute_result",
          "data": {
            "application/vnd.google.colaboratory.intrinsic+json": {
              "type": "string"
            },
            "text/plain": [
              "' \\n# 아래 코드와 동치입니다.\\nmax([ max(i) for i in train_data ])\\n'"
            ]
          },
          "metadata": {
            "tags": []
          },
          "execution_count": 15
        }
      ]
    },
    {
      "cell_type": "code",
      "metadata": {
        "id": "erqxnUP_tpaW",
        "outputId": "a7ebec46-57a3-4a5e-b223-9df8b382ea90",
        "colab": {
          "base_uri": "https://localhost:8080/",
          "height": 68
        }
      },
      "source": [
        "word_index = keras.datasets.imdb.get_word_index()\n",
        "print(type(word_index))"
      ],
      "execution_count": 8,
      "outputs": [
        {
          "output_type": "stream",
          "text": [
            "Downloading data from https://storage.googleapis.com/tensorflow/tf-keras-datasets/imdb_word_index.json\n",
            "1646592/1641221 [==============================] - 0s 0us/step\n",
            "<class 'dict'>\n"
          ],
          "name": "stdout"
        }
      ]
    },
    {
      "cell_type": "code",
      "metadata": {
        "id": "ezarvfi5j8hx",
        "outputId": "a1030af2-287d-45c1-f31f-8a4f1be2ac6b",
        "colab": {
          "base_uri": "https://localhost:8080/",
          "height": 89
        }
      },
      "source": [
        "reverse_word_index = {}\n",
        "for (key, value) in list(word_index.items()):\n",
        "  reverse_word_index[value] = key\n",
        "\n",
        "decoded_review = ''\n",
        "temp_li = []\n",
        "for i in train_data[0]:\n",
        "  temp_li.append(reverse_word_index.get(i-3, '?'))\n",
        "  # 딕셔너리 안에 찾으려는 Key 값이 없을 경우 미리 정해 둔 디폴트 값을 대신 가져오게 하고 싶을 때에는 get(x, '디폴트 값')을 사용하면 편리하다.\n",
        "decoded_review = ' '.join(temp_li)\n",
        "print(decoded_review)\n",
        "\n",
        "'''\n",
        "# 아래 코드와 동치입니다.\n",
        "reverse_word_index = dict([(value, key) for () in list(word_index.items())])\n",
        "decoded_review = ' '.join(reverse_word_index.get(i-3, '?') for i in train_data[0])\n",
        "'''"
      ],
      "execution_count": 14,
      "outputs": [
        {
          "output_type": "stream",
          "text": [
            "? this film was just brilliant casting location scenery story direction everyone's really suited the part they played and you could just imagine being there robert ? is an amazing actor and now the same being director ? father came from the same scottish island as myself so i loved the fact there was a real connection with this film the witty remarks throughout the film were great it was just brilliant so much that i bought the film as soon as it was released for ? and would recommend it to everyone to watch and the fly fishing was amazing really cried at the end it was so sad and you know what they say if you cry at a film it must have been good and this definitely was also ? to the two little boy's that played the ? of norman and paul they were just brilliant children are often left out of the ? list i think because the stars that play them all grown up are such a big profile for the whole film but these children are amazing and should be praised for what they have done don't you think the whole story was so lovely because it was true and was someone's life after all that was shared with us all\n"
          ],
          "name": "stdout"
        },
        {
          "output_type": "execute_result",
          "data": {
            "application/vnd.google.colaboratory.intrinsic+json": {
              "type": "string"
            },
            "text/plain": [
              "\"\\n# 아래 코드와 동치입니다.\\nreverse_word_index = dict([(value, key) for () in list(word_index.items())])\\ndecoded_review = ' '.join(reverse_word_index.get(i-3, '?') for i in train_data[0])\\n\""
            ]
          },
          "metadata": {
            "tags": []
          },
          "execution_count": 14
        }
      ]
    },
    {
      "cell_type": "markdown",
      "metadata": {
        "id": "dRkVE7jkmYXU"
      },
      "source": [
        "### 데이터 준비"
      ]
    },
    {
      "cell_type": "code",
      "metadata": {
        "id": "VnakloHdp3Ij",
        "outputId": "984fdf1d-ca3d-4b78-afa3-706c277009b2",
        "colab": {
          "base_uri": "https://localhost:8080/",
          "height": 34
        }
      },
      "source": [
        "train_data.shape"
      ],
      "execution_count": 32,
      "outputs": [
        {
          "output_type": "execute_result",
          "data": {
            "text/plain": [
              "(25000,)"
            ]
          },
          "metadata": {
            "tags": []
          },
          "execution_count": 32
        }
      ]
    },
    {
      "cell_type": "code",
      "metadata": {
        "id": "jo3lunK6mURn",
        "outputId": "89c176d5-85d3-47b4-9e4e-b916e03baa6f",
        "colab": {
          "base_uri": "https://localhost:8080/",
          "height": 51
        }
      },
      "source": [
        "import numpy as np\n",
        "\n",
        "def vectorize_sequences(sequences, dimension = 10000): # sequence ex. : [13, 25, 100, 999, 5, 2]\n",
        "  results = np.zeros([len(sequences), dimension])\n",
        "  for i, sequence in enumerate(sequences):\n",
        "    results[i, sequence] = 1. # i 행 sequence 열에 추가. 뭐 이런 식.\n",
        "    # [\n",
        "    #  [0, 0, 1., 0, 0, ..., 0],\n",
        "    #  [0, 0, 0, 0, 0, ..., 1.],\n",
        "    # ...\n",
        "    #  [0, 1., 0, 0, 0, ... ],\n",
        "    # ]\n",
        "    # 생각하는 방법 : \"가장 안쪽 차원(axis, dimension) 이 하나의 시퀀스구나.\"\n",
        "  return results\n",
        "\n",
        "x_train = vectorize_sequences(train_data)\n",
        "x_test = vectorize_sequences(test_data)\n",
        "print(x_train.shape)\n",
        "print(x_test.shape)"
      ],
      "execution_count": 26,
      "outputs": [
        {
          "output_type": "stream",
          "text": [
            "(25000, 10000)\n",
            "(25000, 10000)\n"
          ],
          "name": "stdout"
        }
      ]
    },
    {
      "cell_type": "code",
      "metadata": {
        "id": "rY_BZsElplcS",
        "outputId": "834d2109-c7d7-43f0-90fc-2b0d921d3d38",
        "colab": {
          "base_uri": "https://localhost:8080/",
          "height": 51
        }
      },
      "source": [
        "y_train = np.asarray(train_labels) # 리스트 자료형에서 numpy 자료형으로 바뀐것. *참고 : np.array() 와 np.asarray() 는 복사 / 참조의 차이.\n",
        "y_test = np.asarray(test_labels)\n",
        "print(y_train.shape)\n",
        "print(y_test.shape)"
      ],
      "execution_count": 35,
      "outputs": [
        {
          "output_type": "stream",
          "text": [
            "(25000,)\n",
            "(25000,)\n"
          ],
          "name": "stdout"
        }
      ]
    },
    {
      "cell_type": "markdown",
      "metadata": {
        "id": "9hPEcNd-tgV8"
      },
      "source": [
        "### 신경망 모델 만들기\n",
        "\n",
        "- 자유도 관련 언급이 나옵니다. 자유도라는 용어는 보통 통계에서 정의되는 듯 한데, 여기서는 그냥 '자유로운 정도' 나 '차원의 수' 정도로 이해하면 무리가 없습니다.\n",
        "- 이 내용에 대해서 잘 이해가 가지 않는다면, https://youtu.be/fNk_zzaMoSs 재생목록 전체와 https://youtu.be/UOvPeC8WOt8 를 참고하세요. 16차원으로 확장된다는 것이 무슨 의미인지 이해할 수 있을 것입니다.\n",
        "- 활성화 함수에 대한 내용도 마찬가지입니다. 선형 변환을 여러번 암만 해 보아야, 하나의 선형 변환으로 치환할 수 있다는 사실을 https://youtu.be/fNk_zzaMoSs 로부터 알 수 있고, 활성화 함수가 비선형적으로 동작한다는 사실을 https://youtu.be/UOvPeC8WOt8 로부터 알 수 있습니다.\n",
        "\n"
      ]
    },
    {
      "cell_type": "code",
      "metadata": {
        "id": "drMQrdp_shDG"
      },
      "source": [
        "from tensorflow import keras\n",
        "\n",
        "model = keras.models.Sequential()\n",
        "model.add(keras.layers.Dense(16, activation = 'relu', input_shape = (10000,))) # 이미 케라스에서 잘 구현되어 있기 때문에, relu 같이 문자열로 사용하는 것.\n",
        "model.add(keras.layers.Dense(16, activation = 'relu'))\n",
        "model.add(keras.layers.Dense(1, activation = 'sigmoid'))\n",
        "\n",
        "model.compile(optimizer = 'rmsprop', # keras.optimizers.RMSprop(lr = 0.001)\n",
        "              loss = 'binary_crossentropy', # keras.losses.binary_crossentropy\n",
        "              metrics = ['accuracy']) # [keras.metrics.binary_accuracy]"
      ],
      "execution_count": 37,
      "outputs": []
    },
    {
      "cell_type": "code",
      "metadata": {
        "id": "ojWek116wYzg",
        "outputId": "6e8a3fcf-e630-4e2a-ae88-1318e43cd201",
        "colab": {
          "base_uri": "https://localhost:8080/",
          "height": 697
        }
      },
      "source": [
        "x_val = x_train[:10000]\n",
        "partial_x_train = x_train[10000:]\n",
        "y_val = y_train[:10000]\n",
        "partial_y_train = y_train[10000:]\n",
        "\n",
        "history = model.fit(\n",
        "    partial_x_train,\n",
        "    partial_y_train,\n",
        "    epochs = 20,\n",
        "    batch_size = 512,\n",
        "    validation_data = (x_val, y_val),\n",
        ")"
      ],
      "execution_count": 39,
      "outputs": [
        {
          "output_type": "stream",
          "text": [
            "Epoch 1/20\n",
            "30/30 [==============================] - 2s 72ms/step - loss: 0.5441 - accuracy: 0.7773 - val_loss: 0.4181 - val_accuracy: 0.8711\n",
            "Epoch 2/20\n",
            "30/30 [==============================] - 1s 41ms/step - loss: 0.3348 - accuracy: 0.9020 - val_loss: 0.3256 - val_accuracy: 0.8826\n",
            "Epoch 3/20\n",
            "30/30 [==============================] - 1s 41ms/step - loss: 0.2392 - accuracy: 0.9269 - val_loss: 0.2894 - val_accuracy: 0.8873\n",
            "Epoch 4/20\n",
            "30/30 [==============================] - 1s 42ms/step - loss: 0.1896 - accuracy: 0.9388 - val_loss: 0.2915 - val_accuracy: 0.8842\n",
            "Epoch 5/20\n",
            "30/30 [==============================] - 1s 43ms/step - loss: 0.1517 - accuracy: 0.9531 - val_loss: 0.2773 - val_accuracy: 0.8899\n",
            "Epoch 6/20\n",
            "30/30 [==============================] - 1s 43ms/step - loss: 0.1296 - accuracy: 0.9587 - val_loss: 0.2994 - val_accuracy: 0.8816\n",
            "Epoch 7/20\n",
            "30/30 [==============================] - 1s 43ms/step - loss: 0.1066 - accuracy: 0.9701 - val_loss: 0.3263 - val_accuracy: 0.8747\n",
            "Epoch 8/20\n",
            "30/30 [==============================] - 1s 44ms/step - loss: 0.0915 - accuracy: 0.9724 - val_loss: 0.3167 - val_accuracy: 0.8829\n",
            "Epoch 9/20\n",
            "30/30 [==============================] - 1s 41ms/step - loss: 0.0750 - accuracy: 0.9790 - val_loss: 0.3494 - val_accuracy: 0.8800\n",
            "Epoch 10/20\n",
            "30/30 [==============================] - 1s 41ms/step - loss: 0.0621 - accuracy: 0.9845 - val_loss: 0.3631 - val_accuracy: 0.8775\n",
            "Epoch 11/20\n",
            "30/30 [==============================] - 1s 42ms/step - loss: 0.0490 - accuracy: 0.9889 - val_loss: 0.3925 - val_accuracy: 0.8774\n",
            "Epoch 12/20\n",
            "30/30 [==============================] - 1s 40ms/step - loss: 0.0441 - accuracy: 0.9899 - val_loss: 0.4345 - val_accuracy: 0.8697\n",
            "Epoch 13/20\n",
            "30/30 [==============================] - 1s 43ms/step - loss: 0.0345 - accuracy: 0.9929 - val_loss: 0.4499 - val_accuracy: 0.8755\n",
            "Epoch 14/20\n",
            "30/30 [==============================] - 1s 43ms/step - loss: 0.0297 - accuracy: 0.9939 - val_loss: 0.5056 - val_accuracy: 0.8647\n",
            "Epoch 15/20\n",
            "30/30 [==============================] - 1s 41ms/step - loss: 0.0204 - accuracy: 0.9973 - val_loss: 0.5139 - val_accuracy: 0.8696\n",
            "Epoch 16/20\n",
            "30/30 [==============================] - 1s 42ms/step - loss: 0.0182 - accuracy: 0.9978 - val_loss: 0.5363 - val_accuracy: 0.8711\n",
            "Epoch 17/20\n",
            "30/30 [==============================] - 1s 42ms/step - loss: 0.0139 - accuracy: 0.9985 - val_loss: 0.5997 - val_accuracy: 0.8620\n",
            "Epoch 18/20\n",
            "30/30 [==============================] - 1s 41ms/step - loss: 0.0115 - accuracy: 0.9985 - val_loss: 0.6064 - val_accuracy: 0.8680\n",
            "Epoch 19/20\n",
            "30/30 [==============================] - 1s 42ms/step - loss: 0.0100 - accuracy: 0.9984 - val_loss: 0.6394 - val_accuracy: 0.8683\n",
            "Epoch 20/20\n",
            "30/30 [==============================] - 1s 41ms/step - loss: 0.0051 - accuracy: 0.9999 - val_loss: 0.6752 - val_accuracy: 0.8683\n"
          ],
          "name": "stdout"
        }
      ]
    },
    {
      "cell_type": "code",
      "metadata": {
        "id": "PCFMKxOowyIl",
        "outputId": "fa536b2e-c84f-4428-fb10-2078538d63f4",
        "colab": {
          "base_uri": "https://localhost:8080/",
          "height": 34
        }
      },
      "source": [
        "history_dict = history.history\n",
        "history_dict.keys()"
      ],
      "execution_count": 41,
      "outputs": [
        {
          "output_type": "execute_result",
          "data": {
            "text/plain": [
              "dict_keys(['loss', 'accuracy', 'val_loss', 'val_accuracy'])"
            ]
          },
          "metadata": {
            "tags": []
          },
          "execution_count": 41
        }
      ]
    },
    {
      "cell_type": "code",
      "metadata": {
        "id": "_AkFxd9Yw4j3",
        "outputId": "3d161932-b438-43b9-999d-abbb0ae2a73e",
        "colab": {
          "base_uri": "https://localhost:8080/",
          "height": 513
        }
      },
      "source": [
        "import matplotlib.pyplot as plt\n",
        "history_dict = history.history\n",
        "\n",
        "loss = history_dict['loss']\n",
        "val_loss = history_dict['val_loss']\n",
        "acc = history_dict['accuracy']\n",
        "val_acc = history_dict['val_accuracy']\n",
        "\n",
        "epochs = range(1, len(loss) + 1)\n",
        "\n",
        "plt.figure(figsize = [15, 8])\n",
        "plt.subplot(1,2,1)\n",
        "plt.plot(epochs, loss, color = 'blue', label = 'Training loss')\n",
        "plt.plot(epochs, val_loss, color = 'red', label = 'Validation loss')\n",
        "plt.title('Training and validation loss')\n",
        "plt.xlabel('Epochs')\n",
        "plt.ylabel('loss')\n",
        "plt.legend()\n",
        "\n",
        "plt.subplot(1,2,2)\n",
        "plt.plot(epochs, acc, color = 'blue', label = 'Training loss')\n",
        "plt.plot(epochs, val_acc, color = 'red', label = 'Validation loss')\n",
        "plt.title('Training and validation accuracy')\n",
        "plt.xlabel('Epochs')\n",
        "plt.ylabel('accuracy')\n",
        "plt.legend()\n",
        "\n",
        "plt.show()"
      ],
      "execution_count": 53,
      "outputs": [
        {
          "output_type": "display_data",
          "data": {
            "image/png": "[encoded data removed]",
            "text/plain": [
              "<Figure size 1080x576 with 2 Axes>"
            ]
          },
          "metadata": {
            "tags": [],
            "needs_background": "light"
          }
        }
      ]
    },
    {
      "cell_type": "code",
      "metadata": {
        "id": "z33wPiMfxlqR",
        "outputId": "29313285-e4fb-4794-9496-95a767f54f7d",
        "colab": {
          "base_uri": "https://localhost:8080/",
          "height": 34
        }
      },
      "source": [
        "results = model.evaluate(x_test, y_test)"
      ],
      "execution_count": 54,
      "outputs": [
        {
          "output_type": "stream",
          "text": [
            "782/782 [==============================] - 2s 3ms/step - loss: 0.7276 - accuracy: 0.8512\n"
          ],
          "name": "stdout"
        }
      ]
    },
    {
      "cell_type": "markdown",
      "metadata": {
        "id": "pTlRrO41zSQL"
      },
      "source": [
        "## 주택 가격 예측 : 회귀 문제 (Regression Problem)"
      ]
    },
    {
      "cell_type": "code",
      "metadata": {
        "id": "qx102A3Uy062",
        "outputId": "abb1ef15-f3c3-4972-d78d-a642cf391752",
        "colab": {
          "base_uri": "https://localhost:8080/",
          "height": 51
        }
      },
      "source": [
        "from tensorflow import keras\n",
        "\n",
        "(train_data, train_targets), (test_data, test_targets) = keras.datasets.boston_housing.load_data()\n",
        "print(train_data.shape, train_targets.shape)\n",
        "print(test_data.shape, test_targets.shape)"
      ],
      "execution_count": 57,
      "outputs": [
        {
          "output_type": "stream",
          "text": [
            "(404, 13) (404,)\n",
            "(102, 13) (102,)\n"
          ],
          "name": "stdout"
        }
      ]
    },
    {
      "cell_type": "code",
      "metadata": {
        "id": "qYbD-Jsi0FTb"
      },
      "source": [
        "mean = train_data.mean(axis = 0)\n",
        "train_data = train_data - mean # 여기서도 사실 브로드캐스팅이 적용되었다고 할 수 있습니다.\n",
        "std = train_data.std(axis = 0)\n",
        "train_data = train_data / std\n",
        "\n",
        "# z = (x - m) / std"
      ],
      "execution_count": 61,
      "outputs": []
    },
    {
      "cell_type": "code",
      "metadata": {
        "id": "oMk3iPKM1GVQ"
      },
      "source": [
        "def build_model():\n",
        "  model = keras.model.Sequential()\n",
        "  model.add(keras.layers.Dense(64, activation = 'relu', input_shape = (train_data.shape[0])))\n",
        "  model.add(keras.layers.Dense(64, activation = 'relu'))\n",
        "  model.add(keras.layers.Dense(1))\n",
        "  model.compile(optimizer = 'rmsprop',  loss = 'mse', metrics = ['mae']) # loss 는 mse 로 주는데, 확인만 mae 로 하겠다는 겁니다.\n",
        "  return model"
      ],
      "execution_count": 62,
      "outputs": []
    },
    {
      "cell_type": "markdown",
      "metadata": {
        "id": "3QjS8HSHAFZG"
      },
      "source": [
        "### K Fold"
      ]
    },
    {
      "cell_type": "code",
      "metadata": {
        "id": "promII48AFut"
      },
      "source": [
        "k = 4 # 샘플 개수\n",
        "num_val_samples = len(train_data) // k # 교차검증 (K-Fold Cross Validation) 샘플 당 들어가는 데이터의 개수\n",
        "num_epochs = 500\n",
        "all_scores = []\n",
        "for i in range(k) :\n",
        "  print('현재 ',k,'fold 처리중')\n",
        "  val_data = train_data[i * num_val_samples : (i+1) * num_val_samples]\n",
        "  val_targets = train_targets[i * num_val_samples : (i+1) * num_val_samples]\n",
        "\n",
        "  partial_train_data = np.concatenate(\n",
        "      [train_data[: i * num_val_samples], train_targets[(i + 1) * num_val_samples :]],\n",
        "      axis = 0\n",
        "  )\n",
        "\n",
        "  model = build_model()\n",
        "  model.fit(partial_train_data, partial_train_targets, epoches = num_epochs, batch_szie = 1, verbose = 0)\n",
        "  val_mse, val_mae = model.evaluate(val_data, val_targets, verbose = 0)\n",
        "  all_scores.append(val_mae)\n"
      ],
      "execution_count": null,
      "outputs": []
    }
  ]
}