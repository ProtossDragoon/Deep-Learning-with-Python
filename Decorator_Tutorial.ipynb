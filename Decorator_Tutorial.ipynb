{
  "nbformat": 4,
  "nbformat_minor": 0,
  "metadata": {
    "colab": {
      "name": "Decorator-Tutorial.ipynb",
      "provenance": [],
      "toc_visible": true,
      "authorship_tag": "ABX9TyOEewMXbgq0zRzaCDO7EGmI",
      "include_colab_link": true
    },
    "kernelspec": {
      "name": "python3",
      "display_name": "Python 3"
    }
  },
  "cells": [
    {
      "cell_type": "markdown",
      "metadata": {
        "id": "view-in-github",
        "colab_type": "text"
      },
      "source": [
        "<a href=\"https://colab.research.google.com/github/ProtossDragoon/Deep-Learning-with-Python/blob/main/Decorator_Tutorial.ipynb\" target=\"_parent\"><img src=\"https://colab.research.google.com/assets/colab-badge.svg\" alt=\"Open In Colab\"/></a>"
      ]
    },
    {
      "cell_type": "markdown",
      "metadata": {
        "id": "THp4SilQjHP4"
      },
      "source": [
        "# Decorator Tutorial\n",
        "\n",
        "선행되어야 하는 지식\n",
        "\n",
        "- python 의 기본적인 문법들 (class 만드는 방법까지)\n",
        "- 객체, attribute 에 대한 이해\n",
        "- getter, setter 에 대한 이해"
      ]
    },
    {
      "cell_type": "markdown",
      "metadata": {
        "id": "7eiV4xYJxpnB"
      },
      "source": [
        "## Function in Python\n",
        "\n",
        "- 이 챕터는 [이 내용 (stackoverflow)](https://stackoverflow.com/questions/739654/how-to-make-a-chain-of-function-decorators) 을 참고해서 한글로 번역한 내용입 니다.\n",
        "- 우선, \"python 에서 함수는 객체처럼 처리한다!\" 라는 중요한 속성을 이해해야 합니다."
      ]
    },
    {
      "cell_type": "code",
      "metadata": {
        "id": "MhH7VywcyVAq",
        "colab": {
          "base_uri": "https://localhost:8080/",
          "height": 89
        },
        "outputId": "d2df72a1-9111-4997-be98-b52e64575eb9"
      },
      "source": [
        "def shout(word=\"yes\"):\n",
        "    return word.capitalize()+\"!\"\n",
        "\n",
        "print(shout())\n",
        "# outputs : 'Yes!'\n",
        "\n",
        "# python 에서 함수는 객체니까! 함수를 다른 객체들처럼 그냥 변수에 담을 수 있습니다.\n",
        "scream = shout\n",
        "\n",
        "# 괄호가 없으니 함수를 호출(실행) 하는 것이 아닙니다.\n",
        "# 이 코드는 함수 \"shout\" 를 변수 \"scream\" 에 담고 있습니다.\n",
        "# 즉, \"shout\" 함수를 호출(실행) 하기 위해서, 아래와 같이 \"scream\" 변수를 이용할 수 있습니다.\n",
        "\n",
        "print(scream())\n",
        "# outputs : 'Yes!'\n",
        "\n",
        "# 그렇다면 'shout' 변수를 제거하면 어떻게 될까요?\n",
        "# 단순히, 'shout' 객체만 제거한 것이므로 (shout 는 함수이고, 함수도 객체라고 했으니까요!), 'scream' 객체를 통해 여전히 접근할 수 있습니다.\n",
        "\n",
        "del shout\n",
        "try:\n",
        "    print(shout())\n",
        "except NameError as e:\n",
        "    print(e)\n",
        "    # outputs: \"name 'shout' is not defined\"\n",
        "\n",
        "print(scream())\n",
        "# outputs: 'Yes!'"
      ],
      "execution_count": null,
      "outputs": [
        {
          "output_type": "stream",
          "text": [
            "Yes!\n",
            "Yes!\n",
            "name 'shout' is not defined\n",
            "Yes!\n"
          ],
          "name": "stdout"
        }
      ]
    },
    {
      "cell_type": "markdown",
      "metadata": {
        "id": "AWezZv5Yzh7N"
      },
      "source": [
        "- python 에서는 함수 안에 함수를 정의할 수 있습니다."
      ]
    },
    {
      "cell_type": "code",
      "metadata": {
        "id": "s4G8uWEextfM",
        "colab": {
          "base_uri": "https://localhost:8080/",
          "height": 53
        },
        "outputId": "a11e51d2-259c-4e4c-96c4-4abce30759ef"
      },
      "source": [
        "def talk():\n",
        "    # \"talk\" 라는 함수 안에다가 다른 함수를 정의할 수 있습니다.\n",
        "    def whisper(word=\"yes\"):\n",
        "        return word.lower()+\"...\"\n",
        "\n",
        "    print(whisper())\n",
        "\n",
        "# talk() 를 실행할 때마다, 새롭게 whilsper() 을 정의합니다. 즉, \"whisper\" 함수는 호출할 때마다 whisper() 을 새롭게 정의한다고 생각하면 됩니다.\n",
        "talk()\n",
        "# outputs: \n",
        "# \"yes...\"\n",
        "\n",
        "# But \"whisper\" 함수는 \"talk\" 함수 밖에서 호출할 수 없습니다.\n",
        "\n",
        "try:\n",
        "    print(whisper())\n",
        "except NameError as e:\n",
        "    print(e)\n",
        "    #outputs : \"name 'whisper' is not defined\"*\n",
        "    #Python's functions are objects"
      ],
      "execution_count": null,
      "outputs": [
        {
          "output_type": "stream",
          "text": [
            "yes...\n",
            "name 'whisper' is not defined\n"
          ],
          "name": "stdout"
        }
      ]
    },
    {
      "cell_type": "markdown",
      "metadata": {
        "id": "xlscUo2NzyAX"
      },
      "source": [
        "- 여기까지 이해했다면, 함수도 객체니까, 함수를 return 할 수 있다는 생각이 들게 됩니다.\n",
        "- return 도 된다면, 아주 당연히, parameter 로 전달도 가능하겠지요."
      ]
    },
    {
      "cell_type": "code",
      "metadata": {
        "id": "00sPCwHNyP22",
        "colab": {
          "base_uri": "https://localhost:8080/",
          "height": 107
        },
        "outputId": "4577c292-c51e-490d-d7eb-502621d3d928"
      },
      "source": [
        "def getTalk(kind=\"shout\"):\n",
        "\n",
        "    # \"talk\" 라는 함수 안에다가 다른 함수를 정의할 수 있습니다.\n",
        "    def shout(word=\"yes\"):\n",
        "        return word.capitalize()+\"!\"\n",
        "\n",
        "    # \"talk\" 라는 함수 안에다가 다른 함수를 정의할 수 있습니다.\n",
        "    def whisper(word=\"yes\") :\n",
        "        return word.lower()+\"...\";\n",
        "\n",
        "    # getTalk 함수 안에 정의된 다양한 함수들 중 하나를 return 해 봅시다..\n",
        "    if kind == \"shout\":\n",
        "        # return 하는 것은 객체라고 했습니다.\n",
        "        return shout  \n",
        "    else:\n",
        "        return whisper\n",
        "\n",
        "\n",
        "# 이제 이 요상한 녀석을 써 봅시다.\n",
        "# getTalk() 을 실행합니다. 기본 파라미터가 shout 이니까, shout 함수 객체를 return 합니다.\n",
        "talk = getTalk()      \n",
        "\n",
        "# 진짜 객체인가 봅시다.\n",
        "print(talk)\n",
        "#outputs : <function shout at 0xb7ea817c>\n",
        "\n",
        "# 우리가 함수를 실행시킬 때처럼, () 를 뒤에 붙여 줍니다.\n",
        "print(talk())\n",
        "#outputs : Yes!\n",
        "\n",
        "# 다른 객체로 저장하지 않고 이렇게 사용할 수 있겠지요.\n",
        "print(getTalk(\"whisper\")())\n",
        "#outputs : yes...\n",
        "\n",
        "\n",
        "\n",
        "# 파라미터로 함수 전달하기\n",
        "def doSomethingBefore(func): \n",
        "    print(\"I do something before then I call the function you gave me\")\n",
        "    print(func())\n",
        "\n",
        "doSomethingBefore(scream)\n",
        "#outputs: \n",
        "#I do something before then I call the function you gave me\n",
        "#Yes!"
      ],
      "execution_count": null,
      "outputs": [
        {
          "output_type": "stream",
          "text": [
            "<function getTalk.<locals>.shout at 0x7ff4705d11e0>\n",
            "Yes!\n",
            "yes...\n",
            "I do something before then I call the function you gave me\n",
            "Yes!\n"
          ],
          "name": "stdout"
        }
      ]
    },
    {
      "cell_type": "markdown",
      "metadata": {
        "id": "slcma9OnaC5t"
      },
      "source": [
        "## Introduction of Decorator"
      ]
    },
    {
      "cell_type": "markdown",
      "metadata": {
        "id": "yA1p0LNyaSyV"
      },
      "source": [
        "### Decorator\n",
        "\n",
        "> 데코레이터는, 다른 함수가 파라미터로 들어오는 함수를 의미합니다.\n",
        "\n",
        "- 위에서 우리가 열심히 정의했던 내용을 유념하세요!\n",
        "- 이 정의는 데코레이터에 대한 굉장히 정확한 정의입니다.\n",
        "- 우선, 데코레이터를 활용할 수 있는 @ 를 배우기 전에, 직접 함수 객체를 활용해서 주고받는 데코레이터 구조를 만들어 봅시다.\n",
        "\n",
        "\n",
        "> On the fly\n",
        "\n",
        "- On-the-fly programming is the technique of modifying a program without stopping it.\n",
        "- On the fly 란, 소스 코드를 run time 에 수정하는 기법을 의미입니다. 텍스트 에디터로 소스 코드를 수정하는 것이 아니고, 소스 코드를 통해 소스 코드를 변경할 수 있도록 합니다. 예를 들어 함수 A의 소스 코드가 B 였다면, C 로 바꾸어 주는 것과 같이 작동하도록 만들어 줍니다. 단순 if-else 문보다 훨씬 유연하게 동작하도록 만들 수 있습니다.\n",
        "- C언어에 익숙하신 분이라면, 매크로처럼 소스코드가 바뀌며 동작한다고 생각하시면 됩니다. 물론 매크로는, 전처리 time 에 적용되는 기법이지만, 이는 run time 에 적용되는 소스코드 수정 기법이라는 점에서 더욱 유연합니다.\n",
        "- 정확한 의미는 코드를 통해 알아봅시다."
      ]
    },
    {
      "cell_type": "code",
      "metadata": {
        "id": "-Ul0gQL73Lv3",
        "colab": {
          "base_uri": "https://localhost:8080/",
          "height": 89
        },
        "outputId": "039aa5e1-2d9f-4cd5-cf78-c8694c6a3239"
      },
      "source": [
        "# 데코레이터는, 다른 함수가 파라미터로 들어오는 함수를 의미합니다.\n",
        "def my_shiny_new_decorator(a_function_to_decorate):\n",
        "\n",
        "    # 데코레이터 내부에는 run time 에 실행방법이 제어되는 함수 : wrapper 이라고 하는 놈을 정의합니다.\n",
        "    # 이 wrapper 함수는 우리가 파라미터로 받은 또는 우리가 실행하고자 하는  \"a_function_to_decorate\" 함수에 대한 코드를 감싸게 될 함수입니다.\n",
        "    # so it can execute code before and after it.\n",
        "    def the_wrapper_around_the_original_function():\n",
        "\n",
        "        # Put here the code you want to be executed BEFORE the original function is called\n",
        "        # 원래 우리가 실행하고자 하는 함수 a_function_to_decorate 전에 실행하고자 하는 코드를 작성합니다.\n",
        "        print(\"Before the function runs\")\n",
        "\n",
        "        # Call the function here (using parentheses)\n",
        "        # parameter 로 받은 함수를 불러내는 부분입니다!\n",
        "        a_function_to_decorate()\n",
        "\n",
        "        # Put here the code you want to be executed AFTER the original function is called\n",
        "        # 원래 우리가 실행하고자 하는 함수 a_function_to_decorate 이후에 실행하고자 하는 코드를 작성합니다.\n",
        "        print(\"After the function runs\")\n",
        "\n",
        "    # 이 시점에 아직 a_function_to_decorate 함수는 아직 실행되지 않은 상태입니다. 당연하죠. the_wrapper_around_the_original_function 가 호출되지 않았으니까요.\n",
        "    # 우리는 방금 만든 wrapper 함수 the_wrapper_around_the_original_function 객체를 그냥 return 할 것입니다.\n",
        "    # wrapper 함수는, 우리가 파라미터로 받은, 또는 우리가 실행하고자 하는, 우리가 잘 감싸고자 하는 a_function_to_decorate 코드를 품고 있지요.\n",
        "    # 이제 decorator 을 실행할 준비를 마치게 됩니다!\n",
        "    return the_wrapper_around_the_original_function\n",
        "\n",
        "\n",
        "\n",
        "# 그냥 평소에 우리가 만들듯이 만드는 함수 a_stand_alone_function 를 정의했다고 생각해 봅시다.\n",
        "# 우리는 이 굉장히 허접한 함수를 절대 수정하지 않을 것입니다. \n",
        "def a_stand_alone_function():\n",
        "    print(\"I am a stand alone function, don't you dare modify me\")\n",
        "\n",
        "a_stand_alone_function() \n",
        "#outputs: I am a stand alone function, don't you dare modify me\n",
        "\n",
        "\n",
        "# 자, 우리는 이제 a_stand_alone_function 의 함수의 기능을 추가하기 위해, a_stand_alone_function 의 소스코드를 수정하지 않을 수 있을까요?\n",
        "# a_stand_alone_function 함수 객체를 decorator 의 인자로 넣어 줍시다!\n",
        "# a_stand_alone_function 함수는 decorator 의 wrapper 로 인해 매우 유연하게 포장될 것입니다.\n",
        "\n",
        "a_stand_alone_function_decorated = my_shiny_new_decorator(a_stand_alone_function)\n",
        "a_stand_alone_function_decorated()\n",
        "#outputs:\n",
        "#Before the function runs\n",
        "#I am a stand alone function, don't you dare modify me\n",
        "#After the function runs"
      ],
      "execution_count": null,
      "outputs": [
        {
          "output_type": "stream",
          "text": [
            "I am a stand alone function, don't you dare modify me\n",
            "Before the function runs\n",
            "I am a stand alone function, don't you dare modify me\n",
            "After the function runs\n"
          ],
          "name": "stdout"
        }
      ]
    },
    {
      "cell_type": "markdown",
      "metadata": {
        "id": "oWsAg5Oi8hxe"
      },
      "source": [
        "Now, you probably want that every time you call a_stand_alone_function, \n",
        "- 우리가 이렇게 열심히 a_stand_alone_function 의 기능을 추가했습니다.\n",
        "- 애써 열심히 만든 이 데코레이터 함수 ```a_stand_alone_function_decorated``` 가 있으니까 그냥 a_stand_alone_function 를 호출할 때마다, ```a_stand_alone_function_decorated``` 가 호출되게 할 수는 없는 걸까요?\n",
        "- a_stand_alone_function 를 대입한 함수를 my_shiny_new_decorator 의 파라미터로 넘기고, 이를 다시 a_stand_alone_function 에 저장하면 됩니다. "
      ]
    },
    {
      "cell_type": "code",
      "metadata": {
        "id": "rvKxuC0h_u3N"
      },
      "source": [
        "a_stand_alone_function = my_shiny_new_decorator(a_stand_alone_function)\n",
        "a_stand_alone_function()\n",
        "#outputs:\n",
        "#Before the function runs\n",
        "#I am a stand alone function, don't you dare modify me\n",
        "#After the function runs"
      ],
      "execution_count": null,
      "outputs": []
    },
    {
      "cell_type": "markdown",
      "metadata": {
        "id": "xPHLoq5mA37F"
      },
      "source": [
        "### Decorator Syntax\n",
        "자! 지금까지 일어났던 일들이 궁극적으로 Decorator 이 하는 일의 본질입니다!\n",
        "- 본질을 알고 사용하면 외울 필요가 없습니다.\n",
        "- python 에서는 @decorator 이 작업을 빠르게 할 수 있도록 도와 줍니다.\n",
        "- @decorator_name 은 단지 my_shiny_new_decorator(a_stand_alone_function) 을 대신 작업해 준다고 생각하면 됩니다.\n",
        "\n",
        "\n"
      ]
    },
    {
      "cell_type": "code",
      "metadata": {
        "id": "nIN_HBx4A140",
        "colab": {
          "base_uri": "https://localhost:8080/",
          "height": 71
        },
        "outputId": "0074e901-b828-4827-ec5b-7ff1fd3d1714"
      },
      "source": [
        "@my_shiny_new_decorator\n",
        "def another_stand_alone_function():\n",
        "    print(\"Leave me alone\")\n",
        "\n",
        "another_stand_alone_function()  \n",
        "#outputs:  \n",
        "#Before the function runs\n",
        "#Leave me alone\n",
        "#After the function runs"
      ],
      "execution_count": null,
      "outputs": [
        {
          "output_type": "stream",
          "text": [
            "Before the function runs\n",
            "Leave me alone\n",
            "After the function runs\n"
          ],
          "name": "stdout"
        }
      ]
    },
    {
      "cell_type": "markdown",
      "metadata": {
        "id": "rLKWKYJ8itSE"
      },
      "source": [
        "### Multiple Decorator\n",
        "- 데코레이터 여러 개를 겹쳐서 사용할 수 있습니다.\n",
        "- 우선 본질의 코드를 보고, python shortcut 코드를 보도록 합시다.\n",
        "- 바로 아래 코드는 여러개의 데코레이터를 사용한다는 것의 본질을 보여 줍니다."
      ]
    },
    {
      "cell_type": "code",
      "metadata": {
        "id": "NK5Jm35Wit8h",
        "colab": {
          "base_uri": "https://localhost:8080/",
          "height": 125
        },
        "outputId": "ef0ea4aa-5ad2-42c7-a59d-e9a287f4b868"
      },
      "source": [
        "def bread(func):\n",
        "    def wrapper():\n",
        "        print(\"</''''''\\>\")\n",
        "        func()\n",
        "        print(\"<\\______/>\")\n",
        "    return wrapper\n",
        "\n",
        "def ingredients(func):\n",
        "    def wrapper():\n",
        "        print(\"#tomatoes#\")\n",
        "        func()\n",
        "        print(\"~salad~\")\n",
        "    return wrapper\n",
        "\n",
        "def sandwich(food=\"--ham--\"):\n",
        "    print(food)\n",
        "\n",
        "sandwich()\n",
        "#outputs: --ham--\n",
        "sandwich = bread(ingredients(sandwich))\n",
        "sandwich()\n",
        "#outputs:\n",
        "#</''''''\\>\n",
        "# #tomatoes#\n",
        "# --ham--\n",
        "# ~salad~\n",
        "#<\\______/>"
      ],
      "execution_count": null,
      "outputs": [
        {
          "output_type": "stream",
          "text": [
            "--ham--\n",
            "</''''''\\>\n",
            "#tomatoes#\n",
            "--ham--\n",
            "~salad~\n",
            "<\\______/>\n"
          ],
          "name": "stdout"
        }
      ]
    },
    {
      "cell_type": "markdown",
      "metadata": {
        "id": "ZsLpeSDCjR3X"
      },
      "source": [
        "- 본질을 보았으니 python shortcut 을 보도록 합시다.\n",
        "- python shortcut 코드의 경우, 순서가 중요해집니다.\n",
        "- original function 즉, def sandwich 에서 가까운 데코레이터가 먼저 실행됩니다."
      ]
    },
    {
      "cell_type": "code",
      "metadata": {
        "id": "qX9Fpsqri_x9",
        "colab": {
          "base_uri": "https://localhost:8080/",
          "height": 107
        },
        "outputId": "b50e385b-84ac-455f-9c5a-1dfbcc8e7419"
      },
      "source": [
        "@bread\n",
        "@ingredients\n",
        "def sandwich(food=\"--ham--\"):\n",
        "    print(food)\n",
        "\n",
        "sandwich()\n",
        "#outputs:\n",
        "#</''''''\\>\n",
        "# #tomatoes#\n",
        "# --ham--\n",
        "# ~salad~\n",
        "#<\\______/>"
      ],
      "execution_count": null,
      "outputs": [
        {
          "output_type": "stream",
          "text": [
            "</''''''\\>\n",
            "#tomatoes#\n",
            "--ham--\n",
            "~salad~\n",
            "<\\______/>\n"
          ],
          "name": "stdout"
        }
      ]
    },
    {
      "cell_type": "code",
      "metadata": {
        "id": "6ookK-kFjOZW",
        "colab": {
          "base_uri": "https://localhost:8080/",
          "height": 107
        },
        "outputId": "a90aad8e-8906-49a2-da11-889ed12844cf"
      },
      "source": [
        "@ingredients\n",
        "@bread\n",
        "def strange_sandwich(food=\"--ham--\"):\n",
        "    print(food)\n",
        "\n",
        "strange_sandwich()\n",
        "#outputs:\n",
        "##tomatoes#\n",
        "#</''''''\\>\n",
        "# --ham--\n",
        "#<\\______/>\n",
        "# ~salad~"
      ],
      "execution_count": null,
      "outputs": [
        {
          "output_type": "stream",
          "text": [
            "#tomatoes#\n",
            "</''''''\\>\n",
            "--ham--\n",
            "<\\______/>\n",
            "~salad~\n"
          ],
          "name": "stdout"
        }
      ]
    },
    {
      "cell_type": "markdown",
      "metadata": {
        "id": "BQcXqoD1iBle"
      },
      "source": [
        "데코레이터는 특정 함수의 기능을 원래 함수에 대입하는 기능으로 사용하기 좋겠구나! 라는 느낌을 가져가야 합니다. 왜냐하면, hello_world() 라는 정해진 함수의 빈칸에, go() 라는 함수를 런타임에 넣어주는 것이기 때문입니다. 이를 잘 활용하면 빈칸을 만들고 그곳에 기능을 삽입하는 역할을 매우 쉽게 구현할 수 있습니다."
      ]
    },
    {
      "cell_type": "markdown",
      "metadata": {
        "id": "WwogM3_NbSxg"
      },
      "source": [
        "### Passing Arguments to decorating function\n",
        "- decorator 함수에 인자를 전달해 보도록 합시다.\n",
        "- 지금까지 decorator 함수에 함수의 객체만 파라미터로 넣어 주었습니다."
      ]
    },
    {
      "cell_type": "code",
      "metadata": {
        "id": "ijf0TuG7khnl",
        "colab": {
          "base_uri": "https://localhost:8080/",
          "height": 53
        },
        "outputId": "02df6b25-c32e-4845-9cc1-4cde746e3677"
      },
      "source": [
        "# 뭐 대단한 게 아니고, 그냥 wrapper 함수에 파라미터를 넣을 수 있도록 해 주면 됩니다.\n",
        "\n",
        "def a_decorator_passing_arguments(function_to_decorate):\n",
        "    def a_wrapper_accepting_arguments(arg1, arg2):\n",
        "        print(\"I got args! Look: {0}, {1}\".format(arg1, arg2))\n",
        "        function_to_decorate(arg1, arg2)\n",
        "    return a_wrapper_accepting_arguments\n",
        "\n",
        "# decorator 이 아니라 wrapper 에 인수를 달아 주면 되는 이유는,\n",
        "# 우리가 decorator 의 return 을 통해 wrapper 함수 객체를 얻고, 우리는 wrapper 을 호출할 것이기 때문에,\n",
        "# wrapper 에 argument (함수의 인자, 파라미터) 를 넣어주는 것이 타당하기 때문입니다.\n",
        "\n",
        "\n",
        "# 데코레이터 장착\n",
        "\n",
        "@a_decorator_passing_arguments\n",
        "def print_full_name(first_name, last_name):\n",
        "    print(\"My name is\", first_name, last_name)\n",
        "\n",
        "print_full_name(\"Peter\", \"Venkman\")\n",
        "# outputs:\n",
        "#I got args! Look: Peter Venkman\n",
        "#My name is Peter Venkman"
      ],
      "execution_count": null,
      "outputs": [
        {
          "output_type": "stream",
          "text": [
            "I got args! Look: Peter, Venkman\n",
            "My name is Peter Venkman\n"
          ],
          "name": "stdout"
        }
      ]
    },
    {
      "cell_type": "markdown",
      "metadata": {
        "id": "Tan1f9Avwzo9"
      },
      "source": [
        "### Decorator Method (Class function)\n",
        "\n",
        "- python 데코레이터는 class 의 멤버 함수를 위한 데코레이터에도 일관된 문법을 적용합니다."
      ]
    },
    {
      "cell_type": "code",
      "metadata": {
        "id": "touMa3hSwy-y",
        "colab": {
          "base_uri": "https://localhost:8080/",
          "height": 35
        },
        "outputId": "3c088568-cb07-43bc-a62f-9c2ecfb6d06b"
      },
      "source": [
        "def method_friendly_decorator(method_to_decorate):\n",
        "    def wrapper(self, lie):\n",
        "        lie = lie - 3\n",
        "        return method_to_decorate(self, lie)\n",
        "    return wrapper\n",
        "\n",
        "\n",
        "class Lucy(object):\n",
        "\n",
        "    def __init__(self):\n",
        "        self.age = 32\n",
        "\n",
        "    @method_friendly_decorator\n",
        "    def sayYourAge(self, lie):\n",
        "        print(\"I am\", self.age + lie, \"what did you think?\")\n",
        "\n",
        "l = Lucy()\n",
        "l.sayYourAge(-3)\n",
        "#outputs: I am 26, what did you think?"
      ],
      "execution_count": null,
      "outputs": [
        {
          "output_type": "stream",
          "text": [
            "I am 26 what did you think?\n"
          ],
          "name": "stdout"
        }
      ]
    },
    {
      "cell_type": "markdown",
      "metadata": {
        "id": "DXcLUuFxzqNt"
      },
      "source": [
        "If you’re making general-purpose decorator--one you’ll apply to any function or method, no matter its arguments--then just use *args, **kwargs:\n",
        "\n",
        "- 굉장히 일반적인 용도로 사용될 수 있느 (general-purpose) 데코레이터를 만들고 싶다면, 파라미터로 ```*args **kwargs``` 를 사용하면 됩니다. \n",
        "- 아래 예시입니다."
      ]
    },
    {
      "cell_type": "code",
      "metadata": {
        "id": "zW7HwqWJ0mff",
        "colab": {
          "base_uri": "https://localhost:8080/",
          "height": 305
        },
        "outputId": "e02bd560-10d0-421e-be09-e8f4a39c7a57"
      },
      "source": [
        "def a_decorator_passing_arbitrary_arguments(function_to_decorate):\n",
        "\n",
        "    # wrapper 함수 a_wrapper_accepting_arbitrary_arguments 는 *args 와 **kwargs 를 사용해서 굉장히 일반적인 파라미터들을 받을 수 있게 됩니다.\n",
        "    def a_wrapper_accepting_arbitrary_arguments(*args, **kwargs):\n",
        "        print(\"Do I have args?:\")\n",
        "        print(args)\n",
        "        print(kwargs)\n",
        "        # args 와 kwargs 는 각각 tuple 과 dictionary 자료형으로 데이터들을 담고 있습니다.\n",
        "        # 이 자료들을 잘 끄집어내어 주어야 합니다.\n",
        "\n",
        "        # 자료들을 자료형으로부터 끄집어내는 방법이 익숙하지 않으면 아래를 참고하세요. \n",
        "        # http://www.saltycrane.com/blog/2008/01/how-to-use-args-and-kwargs-in-python/\n",
        "        function_to_decorate(*args, **kwargs)\n",
        "    return a_wrapper_accepting_arbitrary_arguments\n",
        "\n",
        "@a_decorator_passing_arbitrary_arguments\n",
        "def function_with_no_argument(): # 인자로 아무것도 넣지 않는 경우\n",
        "    print(\"Python is cool, no argument here.\")\n",
        "\n",
        "function_with_no_argument()\n",
        "#outputs\n",
        "#Do I have args?:\n",
        "#()\n",
        "#{}\n",
        "#Python is cool, no argument here.\n",
        "\n",
        "\n",
        "@a_decorator_passing_arbitrary_arguments\n",
        "def function_with_arguments(a, b, c): # 인자로 여러 개의 인자를 넘기는 경우\n",
        "    print(a, b, c)\n",
        "\n",
        "function_with_arguments(1,2,3)\n",
        "#outputs\n",
        "#Do I have args?:\n",
        "#(1, 2, 3)\n",
        "#{}\n",
        "#1 2 3 \n",
        "\n",
        "@a_decorator_passing_arbitrary_arguments\n",
        "def function_with_named_arguments(a, b, c, platypus=\"Why not ?\"): # 인자로 keyword (여기서는 platypus 같은 것들) 을 붙여서 넘기는 경우\n",
        "    print(\"Do {0}, {1} and {2} like platypus? {3}\".format(a, b, c, platypus))\n",
        "\n",
        "function_with_named_arguments(\"Bill\", \"Linus\", \"Steve\", platypus=\"Indeed!\")\n",
        "#outputs\n",
        "#Do I have args ? :\n",
        "#('Bill', 'Linus', 'Steve')\n",
        "#{'platypus': 'Indeed!'}\n",
        "#Do Bill, Linus and Steve like platypus? Indeed!\n",
        "\n",
        "\n",
        "class Mary(object):\n",
        "\n",
        "    def __init__(self):\n",
        "        self.age = 31\n",
        "\n",
        "    @a_decorator_passing_arbitrary_arguments\n",
        "    def sayYourAge(self, lie=-3):\n",
        "        print(\"I am {0}, what did you think?\".format(self.age + lie))\n",
        "\n",
        "m = Mary()\n",
        "m.sayYourAge()\n",
        "#outputs\n",
        "# Do I have args?:\n",
        "#(<__main__.Mary object at 0xb7d303ac>,)\n",
        "#{}\n",
        "#I am 28, what did you think?"
      ],
      "execution_count": null,
      "outputs": [
        {
          "output_type": "stream",
          "text": [
            "Do I have args?:\n",
            "()\n",
            "{}\n",
            "Python is cool, no argument here.\n",
            "Do I have args?:\n",
            "(1, 2, 3)\n",
            "{}\n",
            "1 2 3\n",
            "Do I have args?:\n",
            "('Bill', 'Linus', 'Steve')\n",
            "{'platypus': 'Indeed!'}\n",
            "Do Bill, Linus and Steve like platypus? Indeed!\n",
            "Do I have args?:\n",
            "(<__main__.Mary object at 0x7fd5a41b6be0>,)\n",
            "{}\n",
            "I am 28, what did you think?\n"
          ],
          "name": "stdout"
        }
      ]
    },
    {
      "cell_type": "markdown",
      "metadata": {
        "id": "Z-5GVo8q1y_q"
      },
      "source": [
        "### Passing arguments to the decorator\n",
        "\n",
        "- 지금까지는 decorator 함수에 인자를 추가하는 것에 대해서 배워 보았습니다.\n",
        "- 그렇다면 이번에는 decorator 그 자체에 인자를 추가해 볼 수 없을까요?\n",
        "- 우선 decorator 그 자체에 인자를 추가한다는 것이 이해가 잘 되지 않을 수 있습니다. 예를 들어 이런 의문들이요.\n",
        "  - 음? 이미 decorator function 에 함수 객체를 인자로 사용하고 있었잖아요!\n",
        "  - decorator 과 decorator function 이 다른 거였어요?!\n",
        "- 우선 첫 번째 의문에 답을 하자면, 그 의심이 맞습니다. 이미 decorator function 은 함수 객체를 인자로 사용하고 있기 때문에, decorator 에 다른 인자를 넣어 줄 수가 없어요.\n",
        "- 이에 대한 해결책을, 실제로 코드를 보면서 이해하도록 합시다.\n",
        "- 새로운 개념을 받아들이기 전에, 기존 내용을 한 번만 더 복습하고 가도록 해요.\n",
        "\n",
        "This can get somewhat twisted, since a decorator must accept a function as an argument. Therefore, you cannot pass the decorated function’s arguments directly to the decorator.\n",
        "\n",
        "Before rushing to the solution, let’s write a little reminder:"
      ]
    },
    {
      "cell_type": "code",
      "metadata": {
        "id": "RcPI3OIi3xWk",
        "colab": {
          "base_uri": "https://localhost:8080/",
          "height": 53
        },
        "outputId": "66a7d404-4981-411e-a60a-f22bea2ffce1"
      },
      "source": [
        "# decorator 은, 그냥 평범한 함수에요!\n",
        "def my_decorator(func):\n",
        "    print(\"I am an ordinary function\")\n",
        "    def wrapper():\n",
        "        print(\"I am function returned by the decorator\")\n",
        "        func()\n",
        "    return wrapper\n",
        "\n",
        "# 그러므로,  \"@\" 같은 것 없어도 똑같이 구현할 수 있어요. @ 는 python 에서 decorator 을 쉽게 연결하기 위해 만들어 준 것 뿐이에요.\n",
        "\n",
        "def lazy_function():\n",
        "    print(\"zzzzzzzz\")\n",
        "\n",
        "lazy_function = my_decorator(lazy_function)\n",
        "#outputs: I am an ordinary function\n",
        "\n",
        "# 위 예제의 출력은 \"I am an ordinary function\", 입니다. \n",
        "# 왜냐하면, 변수 lazy_function 에다가 함수를 등록해주었을(함수 객체를 저장했을) 뿐, wrapper 함수 객체를 ()을 통해 실행하지 않았기 때문입니다.\n",
        "# 함수를 등록한다는 것은 wrapper 함수의 객체를 return 한 결과를 변수에 저장하겠다는 것인데, \n",
        "# 이것을 하기 위해서는 my_decorator(func) 가 실행되어야 하고, 이 과정에서 나온 print(\"I am an ordinary function\") 만 실행된 것입니다.\n",
        "# 아래 예제도 마찬가지입니다. 그냥 함수를 등록할 뿐, 실행하고자 하는 함수 lazy_function 을 실행하지 않을 겁니다.\n",
        "\n",
        "@my_decorator\n",
        "def lazy_function():\n",
        "    print(\"zzzzzzzz\")\n",
        "\n",
        "#outputs: I am an ordinary function"
      ],
      "execution_count": null,
      "outputs": [
        {
          "output_type": "stream",
          "text": [
            "I am an ordinary function\n",
            "I am an ordinary function\n"
          ],
          "name": "stdout"
        }
      ]
    },
    {
      "cell_type": "markdown",
      "metadata": {
        "id": "BBp0HdyW6pGA"
      },
      "source": [
        "- 두 결과가 완벽히 똑같다는 것을 확인했지요?\n",
        "- @ 를 쓴다는 것의 의미를 정확히 파악하는 것이 중요합니다.\n",
        "- python 에게 \"my_decorator\" 라는 변수에 의해 labelled 된 함수를 호출하라고 명령하는 것과 같습니다.\n",
        "- you are telling Python to call the function 'labelled by the variable \"my_decorator\"'.\n",
        "\n"
      ]
    },
    {
      "cell_type": "code",
      "metadata": {
        "id": "8X0Bca-I6poi",
        "colab": {
          "base_uri": "https://localhost:8080/",
          "height": 125
        },
        "outputId": "bc9393d8-b4f9-4b96-c525-12590ea90dca"
      },
      "source": [
        "def decorator_maker():\n",
        "\n",
        "    print(\"I make decorators! I am executed only once: \"\n",
        "          \"when you make me create a decorator.\")\n",
        "\n",
        "    def my_decorator(func):\n",
        "\n",
        "        print(\"I am a decorator! I am executed only when you decorate a function.\")\n",
        "\n",
        "        def wrapped():\n",
        "            print(\"I am the wrapper around the decorated function. \"\n",
        "                  \"I am called when you call the decorated function. \"\n",
        "                  \"As the wrapper, I return the RESULT of the decorated function.\")\n",
        "            return func()\n",
        "\n",
        "        print(\"As the decorator, I return the wrapped function.\")\n",
        "\n",
        "        return wrapped\n",
        "\n",
        "    print(\"As a decorator maker, I return a decorator\")\n",
        "    return my_decorator\n",
        "\n",
        "\n",
        "# decorator 을 만들어 봅시다.\n",
        "new_decorator = decorator_maker()       \n",
        "#outputs:\n",
        "#I make decorators! I am executed only once: when you make me create a decorator.\n",
        "#As a decorator maker, I return a decorator\n",
        "\n",
        "# 그리고 이제, decorator 을 이용해서 함수에 다양한 기능을 추가하고 꾸며 봅시다.\n",
        "\n",
        "def decorated_function():\n",
        "    print(\"I am the decorated function.\")\n",
        "\n",
        "decorated_function = new_decorator(decorated_function)\n",
        "#outputs:\n",
        "#I am a decorator! I am executed only when you decorate a function.\n",
        "#As the decorator, I return the wrapped function\n",
        "\n",
        "# 이제 기능이 추가된 (decorate 된 함수를) 실행해 봅시다.\n",
        "decorated_function()\n",
        "#outputs:\n",
        "#I am the wrapper around the decorated function. I am called when you call the decorated function.\n",
        "#As the wrapper, I return the RESULT of the decorated function.\n",
        "#I am the decorated function."
      ],
      "execution_count": null,
      "outputs": [
        {
          "output_type": "stream",
          "text": [
            "I make decorators! I am executed only once: when you make me create a decorator.\n",
            "As a decorator maker, I return a decorator\n",
            "I am a decorator! I am executed only when you decorate a function.\n",
            "As the decorator, I return the wrapped function.\n",
            "I am the wrapper around the decorated function. I am called when you call the decorated function. As the wrapper, I return the RESULT of the decorated function.\n",
            "I am the decorated function.\n"
          ],
          "name": "stdout"
        }
      ]
    },
    {
      "cell_type": "code",
      "metadata": {
        "id": "jSX1mYErCp-r"
      },
      "source": [
        "def decorated_function():\n",
        "    print(\"I am the decorated function.\")\n",
        "\n",
        "decorated_function = decorator_maker()(decorated_function)\n",
        "#outputs:\n",
        "#I make decorators! I am executed only once: when you make me create a decorator.\n",
        "#As a decorator maker, I return a decorator\n",
        "#I am a decorator! I am executed only when you decorate a function.\n",
        "#As the decorator, I return the wrapped function.\n",
        "\n",
        "# Finally:\n",
        "decorated_function()    \n",
        "#outputs:\n",
        "#I am the wrapper around the decorated function. I am called when you call the decorated function.\n",
        "#As the wrapper, I return the RESULT of the decorated function.\n",
        "#I am the decorated function."
      ],
      "execution_count": null,
      "outputs": []
    },
    {
      "cell_type": "code",
      "metadata": {
        "id": "GJP3UvklDrj_",
        "colab": {
          "base_uri": "https://localhost:8080/",
          "height": 125
        },
        "outputId": "d718b41b-c623-4bd2-bb6f-63e6abe4361e"
      },
      "source": [
        "# decorator_maker 뒤에 괄호 () 가 붙었다는 것을 잘 보세요!\n",
        "@decorator_maker()\n",
        "def decorated_function():\n",
        "    print(\"I am the decorated function.\")\n",
        "#outputs:\n",
        "#I make decorators! I am executed only once: when you make me create a decorator.\n",
        "#As a decorator maker, I return a decorator\n",
        "#I am a decorator! I am executed only when you decorate a function.\n",
        "#As the decorator, I return the wrapped function.\n",
        "\n",
        "# Eventually: \n",
        "decorated_function()   \n",
        "#outputs:\n",
        "#I am the wrapper around the decorated function. I am called when you call the decorated function.\n",
        "#As the wrapper, I return the RESULT of the decorated function.\n",
        "#I am the decorated function."
      ],
      "execution_count": null,
      "outputs": [
        {
          "output_type": "stream",
          "text": [
            "I make decorators! I am executed only once: when you make me create a decorator.\n",
            "As a decorator maker, I return a decorator\n",
            "I am a decorator! I am executed only when you decorate a function.\n",
            "As the decorator, I return the wrapped function.\n",
            "I am the wrapper around the decorated function. I am called when you call the decorated function. As the wrapper, I return the RESULT of the decorated function.\n",
            "I am the decorated function.\n"
          ],
          "name": "stdout"
        }
      ]
    },
    {
      "cell_type": "markdown",
      "metadata": {
        "id": "uoqxWlghFHEX"
      },
      "source": [
        "굉장히 신기한 광경이 벌어진 것을 알 수 있습니다. 바로 \"@\" 키워드를 활용해서 함수를 \"실행\" 했다는 겁니다. @의 의미를 조금 아시겠나요? 이해가 안 됐다면 코드를 돌이켜 보면서, 이것을 확실히 이해하고 가야 합니다.\n",
        "\n",
        "- 자 이제 다시 돌아옵시다.\n",
        "- 만약 우리가 on-the-fly 로 decorator 만들어낼 수 있다면 (당연히, @ 키워드를 이용해서, 함수를 실행하고, 이 return 값으로 decorator 객체를 받도록 할 것이라는 예상을 할 수 있어야 합니다.) 우리는 인자들을 데코레이터 함수에 넣을 수 있을 겁니다.\n",
        "- 핵심 개념은 아래 코드와 같습니다.\n",
        "\n",
        "\n",
        "```python\n",
        "def function_name1(func):\n",
        "  return something\n",
        "\n",
        "@function_name1 # @function_name1 은,  function_name2 = function_name1(function_name2) 와 동치임.\n",
        "def function_name2(arg):\n",
        "  return something\n",
        "```\n",
        "\n",
        "\n",
        "```python\n",
        "def function_name1(arg):\n",
        "  def function_name3(func):\n",
        "    return something\n",
        "  return function_name3\n",
        "\n",
        "@function_name1(arg) # @function_name1(arg) 은, function_name1(arg) 의 return 인 function_name3 함수 객체에\n",
        "                     # function_name2 를 넣은 function_name2 = function_name3(function_name2) 와 동치임.\n",
        "def function_name2(arg):\n",
        "  return something\n",
        "```\n",
        "\n",
        "\n",
        "- 실행해 보면서 조금 더 느낌을 파악하도록 합시다.\n",
        "\n"
      ]
    },
    {
      "cell_type": "code",
      "metadata": {
        "id": "jE2y3uDgFHm6",
        "colab": {
          "base_uri": "https://localhost:8080/",
          "height": 161
        },
        "outputId": "84e29fc1-919e-4bea-b94e-ca0df38a24f1"
      },
      "source": [
        "def decorator_maker_with_arguments(decorator_arg1, decorator_arg2):\n",
        "\n",
        "    print(\"I make decorators! And I accept arguments : \",decorator_arg1, decorator_arg2)\n",
        "\n",
        "    def my_decorator(func):\n",
        "        # 이 함수의 print() 문을 보면, decorator_arg1 와 decorator_arg2 가 존재하는데, 이것은 decorator_maker_with_arguments 에서 받은 인자들입니다.\n",
        "        # 어떻게 my_decorator 에서 사용할 수 있는지를 정확히 이해하기 위해서는, python 의 closure 에 대한 이해가 필요합니다.\n",
        "        # closure 덕분에, 밖의 decorator_maker_with_arguments 에서 받은 인자들을 my_decorator 에서 사용할 수 있는지 정확히 설명할 수 있습니다.\n",
        "        # 이에 대해 익숙하지 않을 수 있지만, 뭐 괜찮습니다. 그래도 정 궁금하면 https://stackoverflow.com/questions/13857/can-you-explain-closures-as-they-relate-to-python 을 보세요.\n",
        "        print(\"I am the decorator. Somehow you passed me arguments :\", decorator_arg1, decorator_arg2)\n",
        "\n",
        "        # decorator_arg 인자들과 fucntion_arg 인자들이 헷갈리지 앟게 주의하세요~\n",
        "        def wrapped(function_arg1, function_arg2) :\n",
        "            print(\"I am the wrapper around the decorated function.\\n\"\n",
        "                  \"I can access all the variables\\n\"\n",
        "                  \"\\t- from the decorator: {0} {1}\\n\"\n",
        "                  \"\\t- from the function call: {2} {3}\\n\"\n",
        "                  \"Then I can pass them to the decorated function\"\n",
        "                  .format(decorator_arg1, decorator_arg2,\n",
        "                          function_arg1, function_arg2))\n",
        "            return func(function_arg1, function_arg2)\n",
        "\n",
        "        return wrapped\n",
        "\n",
        "    return my_decorator\n",
        "\n",
        "@decorator_maker_with_arguments(\"Leonard\", \"Sheldon\")\n",
        "def decorated_function_with_arguments(function_arg1, function_arg2):\n",
        "    print(\"I am the decorated function and only knows about my arguments::\", function_arg1, function_arg2)\n",
        "\n",
        "decorated_function_with_arguments(\"Rajesh\", \"Howard\")\n",
        "#outputs:\n",
        "#I make decorators! And I accept arguments: Leonard Sheldon\n",
        "#I am the decorator. Somehow you passed me arguments: Leonard Sheldon\n",
        "#I am the wrapper around the decorated function. \n",
        "#I can access all the variables \n",
        "#   - from the decorator: Leonard Sheldon \n",
        "#   - from the function call: Rajesh Howard \n",
        "#Then I can pass them to the decorated function\n",
        "#I am the decorated function and only knows about my arguments: Rajesh Howard"
      ],
      "execution_count": null,
      "outputs": [
        {
          "output_type": "stream",
          "text": [
            "I make decorators! And I accept arguments :  Leonard Sheldon\n",
            "I am the decorator. Somehow you passed me arguments : Leonard Sheldon\n",
            "I am the wrapper around the decorated function.\n",
            "I can access all the variables\n",
            "\t- from the decorator: Leonard Sheldon\n",
            "\t- from the function call: Rajesh Howard\n",
            "Then I can pass them to the decorated function\n",
            "I am the decorated function and only knows about my arguments:: Rajesh Howard\n"
          ],
          "name": "stdout"
        }
      ]
    },
    {
      "cell_type": "markdown",
      "metadata": {
        "id": "1dA1h0f6XMtD"
      },
      "source": [
        ""
      ]
    },
    {
      "cell_type": "code",
      "metadata": {
        "id": "Yn1T4BzmXMJr",
        "colab": {
          "base_uri": "https://localhost:8080/",
          "height": 161
        },
        "outputId": "bb54e466-61f8-4f06-d0b5-4799c9041ac2"
      },
      "source": [
        "c1 = \"Penny\"\n",
        "c2 = \"Leslie\"\n",
        "\n",
        "@decorator_maker_with_arguments(\"Leonard\", c1)\n",
        "def decorated_function_with_arguments(function_arg1, function_arg2):\n",
        "    print(\"I am the decorated function and only knows about my arguments:\", function_arg1, function_arg2)\n",
        "\n",
        "decorated_function_with_arguments(c2, \"Howard\")\n",
        "#outputs:\n",
        "#I make decorators! And I accept arguments: Leonard Penny\n",
        "#I am the decorator. Somehow you passed me arguments: Leonard Penny\n",
        "#I am the wrapper around the decorated function. \n",
        "#I can access all the variables \n",
        "#   - from the decorator: Leonard Penny \n",
        "#   - from the function call: Leslie Howard \n",
        "#Then I can pass them to the decorated function\n",
        "#I am the decorated function and only know about my arguments: Leslie Howard"
      ],
      "execution_count": null,
      "outputs": [
        {
          "output_type": "stream",
          "text": [
            "I make decorators! And I accept arguments :  Leonard Penny\n",
            "I am the decorator. Somehow you passed me arguments : Leonard Penny\n",
            "I am the wrapper around the decorated function.\n",
            "I can access all the variables\n",
            "\t- from the decorator: Leonard Penny\n",
            "\t- from the function call: Leslie Howard\n",
            "Then I can pass them to the decorated function\n",
            "I am the decorated function and only knows about my arguments: Leslie Howard\n"
          ],
          "name": "stdout"
        }
      ]
    },
    {
      "cell_type": "markdown",
      "metadata": {
        "id": "njYi-Uj_XwGO"
      },
      "source": [
        "As you can see, you can pass arguments to the decorator like any function using this trick. You can even use *args, **kwargs if you wish. But remember decorators are called only once. Just when Python imports the script. You can't dynamically set the arguments afterwards. When you do \"import x\", the function is already decorated, so you can't change anything."
      ]
    },
    {
      "cell_type": "markdown",
      "metadata": {
        "id": "DnoqtLGEYNrb"
      },
      "source": [
        "## functools.wraps()\n",
        "\n",
        "functools.wraps() 는 무엇을 하는 함수일까요?\n",
        "\n",
        "partial(update_wrapper, wrapped=wrapped, assigned=assigned, updated=updated)\n",
        "\n",
        "그런데, 이 functools.wraps() 함수를 이해하려면 functools.partial() 이라는 함수와, functools.update_wrapper() 라는 함수를 잘 알아봐야 이해할 수 있을것 같습니다.\n",
        "\n"
      ]
    },
    {
      "cell_type": "code",
      "metadata": {
        "id": "YJau0_ntiy9B"
      },
      "source": [
        "# 작성 중"
      ],
      "execution_count": null,
      "outputs": []
    },
    {
      "cell_type": "markdown",
      "metadata": {
        "id": "oDqvbhiARdg3"
      },
      "source": [
        "## property()\n",
        "\n",
        "이 내용은 https://www.freecodecamp.org/news/python-property-decorator/ 을 번역한 내용입니다."
      ]
    },
    {
      "cell_type": "markdown",
      "metadata": {
        "id": "cP8Jn0a-R5To"
      },
      "source": [
        "### Why we use property()\n",
        "\n",
        "Let's say that this class is part of your program. You are modeling a house with a House class (at the moment, the class only has a price instance attribute defined):\n"
      ]
    },
    {
      "cell_type": "code",
      "metadata": {
        "id": "a53eBAbDRdwp"
      },
      "source": [
        "class House:\n",
        "\n",
        "\tdef __init__(self, price):\n",
        "\t\tself.price = price"
      ],
      "execution_count": null,
      "outputs": []
    },
    {
      "cell_type": "markdown",
      "metadata": {
        "id": "m0EYcwqSSdUa"
      },
      "source": [
        "This instance attribute is public because its name doesn't have a leading underscore. Since the attribute is currently public, it is very likely that you and other developers in your team accessed and modified the attribute directly in other parts of the program using dot notation, like this:\n",
        "\n",
        "```\n",
        "obj = House(1000000)\n",
        "\n",
        "# Access value\n",
        "print(obj.price)\n",
        "\n",
        "# Modify value\n",
        "obj.price = -400.12\n",
        "```\n",
        "\n",
        "So far everything is working great, right? But let's say that you are asked to make this attribute protected (non-public) and validate the new value before assigning it. Specifically, you need to check if the value is a positive float. How would you do that? Let's see.\n",
        "\n",
        "At this point, if you decide to add getters and setters, you and your team will probably panic ?. This is because each line of code that accesses or modifies the value of the attribute will have to be modified to call the getter or setter, respectively. Otherwise, the code will break ⚠️.\n",
        "\n",
        "```\n",
        "obj = House(1000000)\n",
        "\n",
        "# Changed from obj.price\n",
        "print(obj.get_price())\n",
        "\n",
        "# Changed from obj.price = 40000\n",
        "obj.set_price(-400.12)\n",
        "```\n",
        "\n",
        "But... Properties come to the rescue! With @property, you and your team will not need to modify any of those lines because you will able to add getters and setters \"behind the scenes\" without affecting the syntax that you used to access or modify the attribute when it was public.\n",
        "\n",
        "Awesome, right?  \n",
        "\n",
        "\n"
      ]
    },
    {
      "cell_type": "markdown",
      "metadata": {
        "id": "aQJuYlvwTnEX"
      },
      "source": [
        "### property() Syntax\n",
        "\n",
        "Specifically, you can define three methods for a property:\n",
        "\n",
        "- A getter - to access the value of the attribute.\n",
        "- A setter - to set the value of the attribute.\n",
        "- A deleter - to delete the instance attribute.\n",
        "\n",
        "\n",
        "Price is now \"Protected\"\n",
        "Please note that the price attribute is now considered \"protected\" because we added a leading underscore to its name in self._price:\n",
        "\n",
        "그런데, 이 property() 또한 decorator 로 사용이 가능하기 때문에, 결론은 아래와 같습니다.\n"
      ]
    },
    {
      "cell_type": "code",
      "metadata": {
        "id": "iZiXgjwDSdGl"
      },
      "source": [
        "class House:\n",
        "\n",
        "\tdef __init__(self, price):\n",
        "\t\tself._price = price\n",
        "\n",
        "\t@property\n",
        "\tdef price(self):\n",
        "\t\treturn self._price\n",
        "\t\n",
        "\t@price.setter\n",
        "\tdef price(self, new_price):\n",
        "\t\tif new_price > 0 and isinstance(new_price, float):\n",
        "\t\t\tself._price = new_price\n",
        "\t\telse:\n",
        "\t\t\tprint(\"Please enter a valid price\")\n",
        "\n",
        "\t@price.deleter\n",
        "\tdef price(self):\n",
        "\t\tdel self._price"
      ],
      "execution_count": null,
      "outputs": []
    },
    {
      "cell_type": "markdown",
      "metadata": {
        "id": "Dsj1onixaUE0"
      },
      "source": [
        "## Yolov1 Model (other implementation)"
      ]
    },
    {
      "cell_type": "markdown",
      "metadata": {
        "id": "OXrzT0AfmBcu"
      },
      "source": [
        "### Load Package"
      ]
    },
    {
      "cell_type": "code",
      "metadata": {
        "id": "K2DVQPE2t7Rt",
        "colab": {
          "base_uri": "https://localhost:8080/",
          "height": 34
        },
        "outputId": "ed4b85d3-4745-4b17-897c-50000485d4d9"
      },
      "source": [
        "import tensorflow as tf\n",
        "print(tf.__version__)"
      ],
      "execution_count": null,
      "outputs": [
        {
          "output_type": "stream",
          "text": [
            "2.3.0\n"
          ],
          "name": "stdout"
        }
      ]
    },
    {
      "cell_type": "markdown",
      "metadata": {
        "id": "4Sb5jn2ml8pM"
      },
      "source": [
        "### Loss"
      ]
    },
    {
      "cell_type": "code",
      "metadata": {
        "id": "qS0geSR79-my",
        "colab": {
          "base_uri": "https://localhost:8080/",
          "height": 244
        },
        "outputId": "d5751ddf-f4be-4ee1-e740-c5bdb2a194a0"
      },
      "source": [
        "from functools import reduce\n",
        "\n",
        "def compose(*funcs):\n",
        "    \"\"\"Compose arbitrarily many functions, evaluated left to right.\n",
        "    Reference: https://mathieularose.com/function-composition-in-python/\n",
        "    \"\"\"\n",
        "    # return lambda x: reduce(lambda v, f: f(v), funcs, x)\n",
        "    if funcs:\n",
        "        return reduce(lambda f, g: lambda *a, **kw: g(f(*a, **kw)), funcs) # 몇개의 layer 이 하나의 layer 로 합쳐지든 상관없도록 동작하도록 만드려고 한듯.\n",
        "    else:\n",
        "        raise ValueError('Composition of empty sequence not supported.')\n",
        "\n",
        "\n",
        "# Loss 레이어를 만들어 봅시다. \n",
        "# tensorflow 에서는 모든 것들이 node 이자 layer 이라고 생각하면 편합니다.\n",
        "class Loss(tf.keras.layers.Layer):\n",
        "    def __init__(self, num_classes=20, cell_size=7, boxes_per_cell=2, *args, **kwargs):\n",
        "\n",
        "        super(Loss, self).__init__(*args, **kwargs)\n",
        "\n",
        "        # 모델을 만드는 것에 필요한 memeber variable\n",
        "        self.num_classes      = num_classes\n",
        "        self.cell_size        = cell_size\n",
        "        self.boxes_per_cell   = boxes_per_cell\n",
        "\n",
        "        # loss function 에서 필요한 member variable\n",
        "        self.object_scale     = 1.0\n",
        "        self.noobject_scale   = 0.5\n",
        "        self.class_scale      = 2.0\n",
        "        self.coord_scale      = 5.0\n",
        "\n",
        "    # x,y loss\n",
        "    # w,h loss\n",
        "    def regression_loss(self, regression_target, regression, object_mask):\n",
        "      '''\n",
        "      :param inputs:\n",
        "      regression_target: \n",
        "      object_mask: 해당 bbox 에 object 가 있는지 없는지를 판단해 주는 것\n",
        "      :return\n",
        "      reg_loss: regression loss 텐서\n",
        "      '''\n",
        "        coord_mask = tf.expand_dims(object_mask, 4) # 가장 뒷쪽에 span. object_mask shape : [batch, w, h, ch]\n",
        "        boxes_delta = coord_mask * (regression_target - regression)\n",
        "        coord_loss = tf.reduce_mean(tf.reduce_sum(tf.square(boxes_delta), axis=[1, 2, 3, 4]),\n",
        "                                    name='coord_loss') * self.coord_scale\n",
        "        reg_loss = tf.constant(0,dtype=tf.float32)\n",
        "        return reg_loss\n",
        "\n",
        "    def classification_loss(self, labels,  classification, response):\n",
        "        class_delta = response * (labels - classification)\n",
        "        cls_loss = tf.reduce_mean(tf.reduce_sum(tf.square(class_delta), axis=[1, 2, 3]), name='cls_loss') * self.class_scale\n",
        "\n",
        "        return cls_loss\n",
        "\n",
        "    def confidence_loss(self,predict_scales, iou_predict_truth, object_mask):\n",
        "        # calculate no_I tensor [CELL_SIZE, CELL_SIZE, BOXES_PER_CELL]\n",
        "        noobject_mask = tf.ones_like(object_mask, dtype=tf.float32) - object_mask\n",
        "\n",
        "        # object_loss\n",
        "        object_delta = object_mask * (iou_predict_truth - predict_scales)\n",
        "        object_loss = tf.reduce_mean(tf.reduce_sum(tf.square(object_delta), axis=[1, 2, 3]),  name='object_loss') * self.object_scale\n",
        "\n",
        "        # noobject_loss\n",
        "        noobject_delta = noobject_mask * predict_scales\n",
        "        noobject_loss = tf.reduce_mean(tf.reduce_sum(tf.square(noobject_delta), axis=[1, 2, 3]), name='noobject_loss') * self.noobject_scale\n",
        "\n",
        "        return [object_loss, noobject_loss]\n",
        "\n",
        "\n",
        "    def call(self, inputs): # tf.keras.layers.layer 의 상속은 call method 를 구현한다.\n",
        "        '''\n",
        "        :param inputs:\n",
        "        predicts: shape(None, 1470)\n",
        "        labels shape(None, 7, 7, 25)\n",
        "        :return:\n",
        "        '''\n",
        "\n",
        "        # self.loss([x, gt_boxes, image_shape])\n",
        "        predicts, labels, image_shape = inputs\n",
        "\n",
        "        # 첫번째 요소 : 각 cell 에 해당되는, 해당 cell 의 class 가 무엇일지에 대한 score\n",
        "        index_classification = tf.multiply(tf.pow(self.cell_size, 2), self.num_classes)                     # [0 : (7 x 7 x class개수)]\n",
        "        \n",
        "        # 두번째 요소 : 각 cell 에 해당되는, 물체가 있을지에 대한 score\n",
        "        index_confidence = tf.multiply(tf.pow(self.cell_size, 2), self.num_classes + self.boxes_per_cell)   # [(7 x 7 x class개수) : (7 x 7 x (num_classes + cell마다추론하는박스개수))]\n",
        "        \n",
        "        # 세번째 줄에 생략된 부분 : 각 cell 마다 할당되는 2개의 box 를 추정하는 부분\n",
        "        # index_boxes [(7 x 7 x (num_classes + cell마다추론하는박스개수)) : 1470]\n",
        "\n",
        "\n",
        "        predict_classes = tf.reshape(predicts[:, :index_classification], [-1, self.cell_size, self.cell_size, self.num_classes])                    # (Batch, 7x7xC)\n",
        "        predict_scales  = tf.reshape(predicts[:, index_classification:index_confidence], [-1, self.cell_size, self.cell_size, self.boxes_per_cell]) # (Batch, 7x7xB)\n",
        "        predict_boxes   = tf.reshape(predicts[:, index_confidence:], [-1, self.cell_size, self.cell_size, self.boxes_per_cell, 4])                  # (Batch, 7x7x2x4)\n",
        "                                                \n",
        "                                              # (batch, w, h, c)   # (-1, w, h, c)\n",
        "        response              = tf.reshape(labels[:, :, :, 0],      [-1, self.cell_size, self.cell_size, 1])                          # object 가 있는지 없는지 검사하는 용도의 label. (Batch, 7x7x1)\n",
        "        regression_labels     = tf.reshape(labels[:, :, :, 1:5],    [-1, self.cell_size, self.cell_size, 1, 4])                       # grid 의 center 로부터 xywh 을 확인하는 용도의 label. (Batch, 7x7x4)\n",
        "        regression_labels     = tf.div(tf.tile(regression_labels,   [1, 1, 1, self.boxes_per_cell, 1]), tf.to_float(image_shape[0]))  # https://www.tensorflow.org/api_docs/python/tf/tile 이해하고 온다 실시. 쉽게 말하면 채널을 박스 개수만큼 복사한것. 모든 박스의 Groundtruth 는 똑같아야 하기 때문에. \n",
        "        classification_labels = labels[:, :, :, 5:]                                                                                   # 두말할 것도 없이 (Batch, 7x7x클래스종류). 여기서 단점. 박스는 cell 당 N 개 예측가능한데, 클래스는 하나여야함 ㅋㅋㅋㅋ\n",
        "\n",
        "        offset = np.transpose(np.reshape(np.array(\n",
        "                                        [np.arange(self.cell_size)] * self.cell_size * self.boxes_per_cell), # [[0, 1, 2, ... , 6] * 7 * 2 ] (1, 7x7x2)\n",
        "                                        (self.boxes_per_cell, self.cell_size, self.cell_size)),              # (1, 7x7x2) ---> (2, 7, 7)\n",
        "                              (1, 2, 0))\n",
        "        offset = tf.constant(offset, dtype=tf.float32)\n",
        "        offset = tf.reshape(offset, [1, self.cell_size, self.cell_size, self.boxes_per_cell])\n",
        "\n",
        "        regression = tf.stack([(predict_boxes[:, :, :, :, 0] + offset) / self.cell_size,\n",
        "                               (predict_boxes[:, :, :, :, 1] + tf.transpose(offset, (0, 2, 1, 3))) / self.cell_size,\n",
        "                               tf.square(predict_boxes[:, :, :, :, 2]),\n",
        "                               tf.square(predict_boxes[:, :, :, :, 3])])\n",
        "        regression = tf.transpose(regression, [1, 2, 3, 4, 0])\n",
        "\n",
        "        iou_predict_truth = self.calc_iou(regression, regression_labels)\n",
        "\n",
        "        # calculate I tensor [BATCH_SIZE, CELL_SIZE, CELL_SIZE, BOXES_PER_CELL]\n",
        "        object_mask = tf.reduce_max(iou_predict_truth, 3, keep_dims=True)\n",
        "        object_mask = tf.cast((iou_predict_truth >= object_mask), tf.float32) * response\n",
        "\n",
        "        regression_target = tf.stack([regression_labels[:, :, :, :, 0] * self.cell_size - offset,\n",
        "                               regression_labels[:, :, :, :, 1] * self.cell_size - tf.transpose(offset, (0, 2, 1, 3)),\n",
        "                               tf.sqrt(regression_labels[:, :, :, :, 2]),\n",
        "                               tf.sqrt(regression_labels[:, :, :, :, 3])])\n",
        "        regression_target = tf.transpose(regression_target, [1, 2, 3, 4, 0])\n",
        "\n",
        "        # regression loss (localization loss) coord_loss\n",
        "        coord_loss = self.regression_loss(regression_target, predict_boxes, object_mask)\n",
        "\n",
        "        # confidence loss\n",
        "        object_loss, noobject_loss = self.confidence_loss(predict_scales, iou_predict_truth, object_mask)\n",
        "\n",
        "        # classification loss\n",
        "        cls_loss = self.classification_loss(classification_labels, predict_classes, response)\n",
        "\n",
        "        self.add_loss(cls_loss)\n",
        "        self.add_loss(object_loss)\n",
        "        self.add_loss(noobject_loss)\n",
        "        self.add_loss(coord_loss)\n",
        "\n",
        "        return [coord_loss, object_loss, noobject_loss, cls_loss]\n",
        "\n",
        "    def calc_iou(self, boxes1, boxes2, scope='iou'):\n",
        "        \"\"\"calculate ious\n",
        "        Args:\n",
        "          boxes1: 4-D tensor [CELL_SIZE, CELL_SIZE, BOXES_PER_CELL, 4]  ====> (x_center, y_center, w, h)\n",
        "          boxes2: 1-D tensor [CELL_SIZE, CELL_SIZE, BOXES_PER_CELL, 4] ===> (x_center, y_center, w, h)\n",
        "        Return:\n",
        "          iou: 3-D tensor [CELL_SIZE, CELL_SIZE, BOXES_PER_CELL]\n",
        "        \"\"\"\n",
        "        with tf.variable_scope(scope):\n",
        "            boxes1 = tf.stack([boxes1[:, :, :, :, 0] - boxes1[:, :, :, :, 2] / 2.0,\n",
        "                               boxes1[:, :, :, :, 1] - boxes1[:, :, :, :, 3] / 2.0,\n",
        "                               boxes1[:, :, :, :, 0] + boxes1[:, :, :, :, 2] / 2.0,\n",
        "                               boxes1[:, :, :, :, 1] + boxes1[:, :, :, :, 3] / 2.0])\n",
        "            boxes1 = tf.transpose(boxes1, [1, 2, 3, 4, 0])\n",
        "\n",
        "            boxes2 = tf.stack([boxes2[:, :, :, :, 0] - boxes2[:, :, :, :, 2] / 2.0,\n",
        "                               boxes2[:, :, :, :, 1] - boxes2[:, :, :, :, 3] / 2.0,\n",
        "                               boxes2[:, :, :, :, 0] + boxes2[:, :, :, :, 2] / 2.0,\n",
        "                               boxes2[:, :, :, :, 1] + boxes2[:, :, :, :, 3] / 2.0])\n",
        "            boxes2 = tf.transpose(boxes2, [1, 2, 3, 4, 0])\n",
        "\n",
        "            # calculate the left up point & right down point\n",
        "            lu = tf.maximum(boxes1[:, :, :, :, :2], boxes2[:, :, :, :, :2])\n",
        "            rd = tf.minimum(boxes1[:, :, :, :, 2:], boxes2[:, :, :, :, 2:])\n",
        "\n",
        "            # intersection\n",
        "            intersection = tf.maximum(0.0, rd - lu)\n",
        "            inter_square = intersection[:, :, :, :, 0] * intersection[:, :, :, :, 1]\n",
        "\n",
        "            # calculate the boxs1 square and boxs2 square\n",
        "            square1 = (boxes1[:, :, :, :, 2] - boxes1[:, :, :, :, 0]) * \\\n",
        "                      (boxes1[:, :, :, :, 3] - boxes1[:, :, :, :, 1])\n",
        "            square2 = (boxes2[:, :, :, :, 2] - boxes2[:, :, :, :, 0]) * \\\n",
        "                      (boxes2[:, :, :, :, 3] - boxes2[:, :, :, :, 1])\n",
        "\n",
        "            union_square = tf.maximum(square1 + square2 - inter_square, 1e-10)\n",
        "\n",
        "        return tf.clip_by_value(inter_square / union_square, 0.0, 1.0)\n",
        "\n",
        "    def compute_output_shape(self, input_shape):\n",
        "        return [(1,), (1,), (1,), (1,)]\n",
        "\n",
        "    def compute_mask(self, inputs, mask=None):\n",
        "        return [None, None, None, None]\n",
        "\n",
        "    def get_config(self):\n",
        "        return {\n",
        "            'num_classes' : self.num_classes,\n",
        "            'cell_size'   : self.cell_size,\n",
        "        }  \n",
        "\n",
        "class Dimensions(tf.keras.layers.Layer):\n",
        "    def __call__(self, inputs, **kwargs):\n",
        "        return tf.keras.backend.shape(inputs)[1:3]\n",
        "\n",
        "    def compute_output_shape(self, input_shape):\n",
        "        return (input_shape[0], 2,)"
      ],
      "execution_count": null,
      "outputs": [
        {
          "output_type": "error",
          "ename": "NameError",
          "evalue": "ignored",
          "traceback": [
            "\u001b[0;31m---------------------------------------------------------------------------\u001b[0m",
            "\u001b[0;31mNameError\u001b[0m                                 Traceback (most recent call last)",
            "\u001b[0;32m<ipython-input-1-4064684da279>\u001b[0m in \u001b[0;36m<module>\u001b[0;34m()\u001b[0m\n\u001b[1;32m     12\u001b[0m \u001b[0;34m\u001b[0m\u001b[0m\n\u001b[1;32m     13\u001b[0m \u001b[0;34m\u001b[0m\u001b[0m\n\u001b[0;32m---> 14\u001b[0;31m \u001b[0;32mclass\u001b[0m \u001b[0mLoss\u001b[0m\u001b[0;34m(\u001b[0m\u001b[0mtf\u001b[0m\u001b[0;34m.\u001b[0m\u001b[0mkeras\u001b[0m\u001b[0;34m.\u001b[0m\u001b[0mlayers\u001b[0m\u001b[0;34m.\u001b[0m\u001b[0mLayer\u001b[0m\u001b[0;34m)\u001b[0m\u001b[0;34m:\u001b[0m\u001b[0;34m\u001b[0m\u001b[0;34m\u001b[0m\u001b[0m\n\u001b[0m\u001b[1;32m     15\u001b[0m     \u001b[0;32mdef\u001b[0m \u001b[0m__init__\u001b[0m\u001b[0;34m(\u001b[0m\u001b[0mself\u001b[0m\u001b[0;34m,\u001b[0m \u001b[0mnum_classes\u001b[0m\u001b[0;34m=\u001b[0m\u001b[0;36m20\u001b[0m\u001b[0;34m,\u001b[0m \u001b[0mcell_size\u001b[0m\u001b[0;34m=\u001b[0m\u001b[0;36m7\u001b[0m\u001b[0;34m,\u001b[0m \u001b[0mboxes_per_cell\u001b[0m\u001b[0;34m=\u001b[0m\u001b[0;36m2\u001b[0m\u001b[0;34m,\u001b[0m \u001b[0;34m*\u001b[0m\u001b[0margs\u001b[0m\u001b[0;34m,\u001b[0m \u001b[0;34m**\u001b[0m\u001b[0mkwargs\u001b[0m\u001b[0;34m)\u001b[0m\u001b[0;34m:\u001b[0m\u001b[0;34m\u001b[0m\u001b[0;34m\u001b[0m\u001b[0m\n\u001b[1;32m     16\u001b[0m         \u001b[0mself\u001b[0m\u001b[0;34m.\u001b[0m\u001b[0mnum_classes\u001b[0m \u001b[0;34m=\u001b[0m \u001b[0mnum_classes\u001b[0m\u001b[0;34m\u001b[0m\u001b[0;34m\u001b[0m\u001b[0m\n",
            "\u001b[0;31mNameError\u001b[0m: name 'tf' is not defined"
          ]
        }
      ]
    },
    {
      "cell_type": "markdown",
      "metadata": {
        "id": "pb9wJSEBl4S4"
      },
      "source": [
        "### Define Model"
      ]
    },
    {
      "cell_type": "code",
      "metadata": {
        "id": "usbBz45AX0we"
      },
      "source": [
        "from functools import wraps\n",
        "\n",
        "class Yolo(object):\n",
        "    def __init__(self, training=True, num_classes=21, weights=None):\n",
        "        '''\n",
        "        Fast RCNN introduced in Faster R-CNN.\n",
        "        '''\n",
        "        super(Yolo, self).__init__()\n",
        "\n",
        "        self.training = training\n",
        "        self.num_classes = num_classes\n",
        "\n",
        "        self.network()\n",
        "\n",
        "    # @wraps(tf.keras.layers.Conv2D) 은, 이 wrapper function 을 정의하는 데 tf.keras.layers.Conv2D 의 메타데이터 (종속성, 함수명 등) 를 가져오겠다는 의미입니다.\n",
        "    # https://iissgnoheci.tistory.com/8 을 참고.\n",
        "    # 근데 여기서 wrapper 이 꼭 필요한가?\n",
        "    @wraps(tf.keras.layers.Conv2D)\n",
        "    def _Conv2D(self,*args, **kwargs): # 이 wrapper 은 tf.keras.layers.conv2D 객체를 반환하는데, _kwargs 를 활용하여 **kwargs 로 전달, \n",
        "        \"\"\"Wrapper to set Darknet parameters for Convolution2D.\"\"\"\n",
        "        _kwargs = {'kernel_regularizer': tf.keras.regularizers.l2(5e-4)}\n",
        "        _kwargs['padding'] = 'valid' if kwargs.get('strides') == (2, 2) else 'same'\n",
        "        _kwargs.update(kwargs)\n",
        "        return tf.keras.layers.Conv2D(*args, **_kwargs) # 이렇게 리스트와 딕셔너리에 *과 **을 붙여서 패스하면, 같은 이름의 것들이 자동으로 매칭되어 버림. 개꿀팁\n",
        "        # 이 wrapper 은, 원래 _Conv2D 의 역할처럼, Conv2D(_Conv2D) 는 init() 을 호출함, return 으로 Conv2D 객체를 return 할 것이다.\n",
        "    \n",
        "\n",
        "    def _Conv2D_BN_Leaky(self, *args, **kwargs):\n",
        "        \"\"\"Darknet Convolution2D followed by BatchNormalization and LeakyReLU.\"\"\"\n",
        "        no_bias_kwargs = {'use_bias': False}\n",
        "        no_bias_kwargs.update(kwargs)\n",
        "        return compose(\n",
        "            self._Conv2D(*args, **no_bias_kwargs),\n",
        "            tf.keras.layers.BatchNormalization(), # no bn in yolo v1\n",
        "            # ReLU())\n",
        "            tf.keras.layers.LeakyReLU(alpha=0.1))\n",
        "\n",
        "    def network(self):\n",
        "        # Convolution block 0\n",
        "        self.out_0      = self._Conv2D_BN_Leaky(64, kernel_size=(7,7), strides=(1,1), name='conv_0')\n",
        "        self.pooling_0  = tf.keras.layers.MaxPooling2D(pool_size=(2,2), strides=2, name='pooling_0')\n",
        "\n",
        "        # Convolution block 1\n",
        "        self.out_1      = self._Conv2D_BN_Leaky(192, kernel_size=(3, 3), strides=(1, 1), name='conv_1')\n",
        "        self.pooling_1  = tf.keras.layers.MaxPooling2D(pool_size=(2,2), strides=2, name='pooling_1')\n",
        "\n",
        "        # Convolution block 2\n",
        "        self.out_2      = self._Conv2D_BN_Leaky(128, kernel_size=(1, 1), strides=(1, 1), name='conv_2')\n",
        "        self.out_3      = self._Conv2D_BN_Leaky(256, kernel_size=(3, 3), strides=(1, 1), name='conv_3')\n",
        "        self.out_4      = self._Conv2D_BN_Leaky(256, kernel_size=(1, 1), strides=(1, 1), name='conv_4')\n",
        "        self.out_5      = self._Conv2D_BN_Leaky(512, kernel_size=(3, 3), strides=(1, 1), name='conv_5')\n",
        "        self.pooling_2  = tf.keras.layers.MaxPooling2D(pool_size=(2,2), strides=2, name='pooling_2')\n",
        "\n",
        "        # Convolution block 3\n",
        "        self.out_6      = self._Conv2D_BN_Leaky(256, kernel_size=(1, 1), strides=(1, 1), name='conv_6')\n",
        "        self.out_7      = self._Conv2D_BN_Leaky(512, kernel_size=(3, 3), strides=(1, 1), name='conv_7')\n",
        "        self.out_8      = self._Conv2D_BN_Leaky(256, kernel_size=(1, 1), strides=(1, 1), name='conv_8')\n",
        "        self.out_9      = self._Conv2D_BN_Leaky(512, kernel_size=(3, 3), strides=(1, 1), name='conv_9')\n",
        "        self.out_10     = self._Conv2D_BN_Leaky(256, kernel_size=(1, 1), strides=(1, 1), name='conv_10')\n",
        "        self.out_11     = self._Conv2D_BN_Leaky(512, kernel_size=(3, 3), strides=(1, 1), name='conv_11')\n",
        "        self.out_12     = self._Conv2D_BN_Leaky(256, kernel_size=(1, 1), strides=(1, 1), name='conv_12')\n",
        "        self.out_13     = self._Conv2D_BN_Leaky(512, kernel_size=(3, 3), strides=(1, 1), name='conv_13')\n",
        "        self.out_14     = self._Conv2D_BN_Leaky(512, kernel_size=(1, 1), strides=(1, 1), name='conv_14')\n",
        "        self.out_15     = self._Conv2D_BN_Leaky(1024,kernel_size=(3, 3), strides=(1, 1), name='conv_15')\n",
        "        self.pooling_3  = tf.keras.layers.MaxPooling2D(pool_size=(2,2), strides=2, name='pooling_3')\n",
        "\n",
        "        # Convolution block 4\n",
        "        self.out_16     = self._Conv2D_BN_Leaky(512, kernel_size=(1, 1), strides=(1, 1), name='conv_16')\n",
        "        self.out_17     = self._Conv2D_BN_Leaky(1024, kernel_size=(3, 3), strides=(1, 1), name='conv_17')\n",
        "        self.out_18     = self._Conv2D_BN_Leaky(512, kernel_size=(1, 1), strides=(1, 1), name='conv_18')\n",
        "        self.out_19     = self._Conv2D_BN_Leaky(1024, kernel_size=(3, 3), strides=(1, 1), name='conv_19')\n",
        "        self.out_20     = self._Conv2D_BN_Leaky(1024, kernel_size=(3, 3), strides=(1, 1), name='conv_20')\n",
        "        self.out_21     = self._Conv2D_BN_Leaky(1024, kernel_size=(3, 3), strides=(2, 2), name='conv_21')\n",
        "\n",
        "        # Convolution block 5\n",
        "        self.out_22     = self._Conv2D_BN_Leaky(1024, kernel_size=(3, 3), strides=(1, 1), name='conv_22')\n",
        "        self.out_23     = self._Conv2D_BN_Leaky(1024, kernel_size=(3, 3), strides=(1, 1), name='conv_23')\n",
        "\n",
        "        self.flatten = tf.keras.layers.Flatten(name='Flatten')\n",
        "        self.fc_0 = tf.keras.layers.Dense(units=512,name='fc_0')\n",
        "        self.fc_1 = tf.keras.layers.Dense(units=4096,name='fc_1')\n",
        "        self.fc_2 = tf.keras.layers.Dense(units=7*7*30, name='fc_2')\n",
        "\n",
        "        if self.training:\n",
        "            self.loss = Loss(num_classes=self.num_classes)\n",
        "\n",
        "    def __call__(self, inputs, mask=None):\n",
        "        if self.training:\n",
        "            image, gt_boxes = inputs\n",
        "            image_shape = Dimensions()(image)\n",
        "        else:\n",
        "            image = inputs\n",
        "\n",
        "        classification = None\n",
        "        regression = None\n",
        "        loss = None\n",
        "\n",
        "        x = self.out_0(image)\n",
        "        x = self.pooling_0(x)\n",
        "\n",
        "        x = self.out_1(x)\n",
        "        x = self.pooling_1(x)\n",
        "\n",
        "        x = self.out_2(x)\n",
        "        x = self.out_3(x)\n",
        "        x = self.out_4(x)\n",
        "        x = self.out_5(x)\n",
        "        x = self.pooling_2(x)\n",
        "\n",
        "        x = self.out_6(x)\n",
        "        x = self.out_7(x)\n",
        "        x = self.out_8(x)\n",
        "        x = self.out_9(x)\n",
        "        x = self.out_10(x)\n",
        "        x = self.out_11(x)\n",
        "        x = self.out_12(x)\n",
        "        x = self.out_13(x)\n",
        "        x = self.out_14(x)\n",
        "        x = self.out_15(x)\n",
        "        x = self.pooling_3(x)\n",
        "\n",
        "        x = self.out_16(x)\n",
        "        x = self.out_17(x)\n",
        "        x = self.out_18(x)\n",
        "        x = self.out_19(x)\n",
        "        x = self.out_20(x)\n",
        "        x = self.out_21(x)\n",
        "        x = self.out_22(x)\n",
        "        x = self.out_23(x)\n",
        "        x = self.flatten(x)\n",
        "        x = self.fc_0(x)\n",
        "        x = self.fc_1(x)\n",
        "        x = self.fc_2(x)\n",
        "\n",
        "        if self.training:\n",
        "            coord_loss, object_loss, noobject_loss, cls_loss = self.loss([x, gt_boxes, image_shape])\n",
        "\n",
        "        return coord_loss, object_loss, noobject_loss, cls_loss, x"
      ],
      "execution_count": null,
      "outputs": []
    },
    {
      "cell_type": "markdown",
      "metadata": {
        "id": "RMLowqYhDavH"
      },
      "source": [
        "training session 에는\n",
        "- self.loss (여기에는 Loss 직접 만든 클래스 객체가 저장되어 있음.) 함수를 거친 output\n",
        "- coord_loss, object_loss, noobject_loss, cls_loss, \n",
        "- x\n",
        "\n",
        "test session 에는\n",
        "- coord_loss, object_loss, noobject_loss, cls_loss\n",
        "- x\n",
        "\n",
        "그렇다면 Loss 클래스에는 무슨 일이 일어나고 있을까.\n"
      ]
    },
    {
      "cell_type": "code",
      "metadata": {
        "id": "3St2ryUzDbqO"
      },
      "source": [
        ""
      ],
      "execution_count": null,
      "outputs": []
    },
    {
      "cell_type": "markdown",
      "metadata": {
        "id": "Unl-CVGsmdK0"
      },
      "source": [
        "### PascalVOC Data Generator"
      ]
    },
    {
      "cell_type": "code",
      "metadata": {
        "id": "5pTqJPL-rE3Y"
      },
      "source": [
        "import numpy as np\n",
        "import random\n",
        "import threading\n",
        "import warnings\n",
        "from PIL import Image\n",
        "\n",
        "def read_image_bgr(path):\n",
        "    '''\n",
        "    :param path:\n",
        "    :return: (h, w, 3)\n",
        "    '''\n",
        "    try:\n",
        "        image = np.asarray(Image.open(path).convert('RGB'))\n",
        "    except Exception as ex:\n",
        "        print(path)\n",
        "\n",
        "    return image[:, :, ::-1].copy()\n",
        "\n",
        "def preprocess_image(x):\n",
        "    # mostly identical to \"https://github.com/fchollet/keras/blob/master/keras/applications/imagenet_utils.py\"\n",
        "    # except for converting RGB -> BGR since we assume BGR already\n",
        "    x = x.astype(tf.keras.backend.floatx())\n",
        "    if keras.backend.image_data_format() == 'channels_first':\n",
        "        if x.ndim == 3:\n",
        "            x[0, :, :] -= 103.939\n",
        "            x[1, :, :] -= 116.779\n",
        "            x[2, :, :] -= 123.68\n",
        "        else:\n",
        "            x[:, 0, :, :] -= 103.939\n",
        "            x[:, 1, :, :] -= 116.779\n",
        "            x[:, 2, :, :] -= 123.68\n",
        "    else:\n",
        "        x[..., 0] -= 103.939\n",
        "        x[..., 1] -= 116.779\n",
        "        x[..., 2] -= 123.68\n",
        "\n",
        "    return x\n",
        "\n",
        "def resize_image(image, min_side=448, max_side=448):\n",
        "    '''\n",
        "    resize image to dsize\n",
        "    :param img: input (h, w, 3) = (rows, cols, 3)\n",
        "    :param size:\n",
        "    :return: out (h, w, 3)\n",
        "    '''\n",
        "    (h, w, _) = image.shape\n",
        "\n",
        "    scale = np.asarray((min_side, max_side),dtype=float) / np.asarray((h, w),dtype=float)\n",
        "\n",
        "    # resize the image with the computed scale\n",
        "    # cv2.resize(image, (w, h))\n",
        "    img = cv2.resize(image, (min_side, max_side))\n",
        "\n",
        "    return img, scale\n",
        "\n",
        "class Generator(object):\n",
        "    def __init__(\n",
        "        self,\n",
        "        transform_generator = None,\n",
        "        batch_size=2,\n",
        "        group_method='random',  # one of 'none', 'random', 'ratio'\n",
        "        shuffle_groups=True,\n",
        "        image_min_side=448,\n",
        "        image_max_side=448,\n",
        "        cell_size=7,\n",
        "        transform_parameters=None,\n",
        "    ):\n",
        "        self.transform_generator    = transform_generator\n",
        "        self.batch_size             = int(batch_size)\n",
        "        self.group_method           = group_method\n",
        "        self.shuffle_groups         = shuffle_groups\n",
        "        self.image_min_side         = image_min_side\n",
        "        self.image_max_side         = image_max_side\n",
        "        self.cell_size              = cell_size\n",
        "        self.transform_parameters   = transform_parameters\n",
        "\n",
        "        self.group_index = 0\n",
        "        self.lock = threading.Lock()\n",
        "        self.group_images()\n",
        "\n",
        "\n",
        "    def size(self):\n",
        "        raise NotImplementedError('size method not implemented')\n",
        "\n",
        "    def num_classes(self):\n",
        "        raise NotImplementedError('num_classes method not implemented')\n",
        "\n",
        "    def name_to_label(self, name):\n",
        "        raise NotImplementedError('name_to_label method not implemented')\n",
        "\n",
        "    def label_to_name(self, label):\n",
        "        raise NotImplementedError('label_to_name method not implemented')\n",
        "\n",
        "    def image_aspect_ratio(self, image_index):\n",
        "        raise NotImplementedError('image_aspect_ratio method not implemented')\n",
        "\n",
        "    def load_image(self, image_index):\n",
        "        raise NotImplementedError('load_image method not implemented')\n",
        "\n",
        "    def load_annotations(self, image_index):\n",
        "        raise NotImplementedError('load_annotations method not implemented')\n",
        "\n",
        "    def load_annotations_group(self, group):\n",
        "        return [self.load_annotations(image_index) for image_index in group]\n",
        "\n",
        "    def filter_annotations(self, image_group, annotations_group, group):\n",
        "        # test all annotations\n",
        "        for index, (image, annotations) in enumerate(zip(image_group, annotations_group)):\n",
        "            assert(isinstance(annotations, np.ndarray)), '\\'load_annotations\\' should return a list of numpy arrays, received: {}'.format(type(annotations))\n",
        "\n",
        "            # test x2 < x1 | y2 < y1 | x1 < 0 | y1 < 0 | x2 <= 0 | y2 <= 0 | x2 >= image.shape[1] | y2 >= image.shape[0]\n",
        "            invalid_indices = np.where(\n",
        "                (annotations[:, 2] <= annotations[:, 0]) |\n",
        "                (annotations[:, 3] <= annotations[:, 1]) |\n",
        "                (annotations[:, 0] < 0) |\n",
        "                (annotations[:, 1] < 0) |\n",
        "                (annotations[:, 2] > image.shape[1]) |\n",
        "                (annotations[:, 3] > image.shape[0])\n",
        "            )[0]\n",
        "\n",
        "            # delete invalid indices\n",
        "            if len(invalid_indices):\n",
        "                warnings.warn('Image with id {} (shape {}) contains the following invalid boxes: {}.'.format(\n",
        "                    group[index],\n",
        "                    image.shape,\n",
        "                    [annotations[invalid_index, :] for invalid_index in invalid_indices]\n",
        "                ))\n",
        "                annotations_group[index] = np.delete(annotations, invalid_indices, axis=0)\n",
        "\n",
        "        return image_group, annotations_group\n",
        "\n",
        "    def load_image_group(self, group):\n",
        "        return [self.load_image(image_index) for image_index in group] # 가장 밖의 axis 에다가 image 를 차곡차곡 하는 모습. [ [img], [img], [img], [img], ... ]\n",
        "\n",
        "    def random_transform_group_entry(self, image, annotations):\n",
        "        # randomly transform both image and annotations\n",
        "        if self.transform_generator:\n",
        "            pass\n",
        "\n",
        "        return image, annotations\n",
        "\n",
        "    def resize_image(self, image):\n",
        "        return resize_image(image, min_side=self.image_min_side, max_side=self.image_max_side)\n",
        "\n",
        "    def preprocess_image(self, image):\n",
        "        return preprocess_image(image)\n",
        "\n",
        "    def preprocess_group_entry(self, image, annotations):\n",
        "        # preprocess the image\n",
        "        image = self.preprocess_image(image)\n",
        "\n",
        "        # randomly transform image and annotations\n",
        "        # image, annotations = self.random_transform_group_entry(image, annotations) # not implemented\n",
        "\n",
        "        # resize image\n",
        "        image, image_scale = self.resize_image(image)\n",
        "\n",
        "        # apply resizing to annotations too\n",
        "        annotations[:, 0:4:2] *= image_scale[1]\n",
        "        annotations[:, 1:4:2] *= image_scale[0]\n",
        "\n",
        "        return image, annotations\n",
        "\n",
        "    def preprocess_group(self, image_group, annotations_group):\n",
        "        for index, (image, annotations) in enumerate(zip(image_group, annotations_group)):\n",
        "            # preprocess a single group entry\n",
        "            image, annotations = self.preprocess_group_entry(image, annotations)\n",
        "\n",
        "            # copy processed data back to group\n",
        "            image_group[index]       = image\n",
        "            annotations_group[index] = annotations\n",
        "\n",
        "        return image_group, annotations_group\n",
        "\n",
        "    def group_images(self): # init() 에서 실행됨.\n",
        "        # determine the order of the images\n",
        "        order = list(range(self.size())) # 총 데이터의 개수를 range 로 바꿔서, 0~데이터개수-1 리스트로 정리. 이때 size() 는 오버라이딩됨.\n",
        "        if self.group_method == 'random':\n",
        "            random.shuffle(order)\n",
        "        elif self.group_method == 'ratio':\n",
        "            order.sort(key=lambda x: self.image_aspect_ratio(x))\n",
        "\n",
        "        # divide into groups, one group = one batch\n",
        "        # 1 : [order[x % 데이터개수] for x in range(i, i + self.batch_size)] 이때 i 는, 0, 15, 31, ... 이런 식으로 변함.\n",
        "          # order 이 이미 한번 섞였든 말든 상관없이\n",
        "        self.groups = [[order[x % len(order)] for x in range(i, i + self.batch_size)] for i in range(0, len(order), self.batch_size)]\n",
        "\n",
        "    def compute_inputs(self, image_group):\n",
        "        # get the max image shape\n",
        "        max_shape = tuple(max(image.shape[x] for image in image_group) for x in range(3))\n",
        "\n",
        "        # construct an image batch object\n",
        "        image_batch = np.zeros((self.batch_size,) + max_shape, dtype=keras.backend.floatx())\n",
        "\n",
        "        # copy all images to the upper left part of the image batch object\n",
        "        for image_index, image in enumerate(image_group):\n",
        "            image_batch[image_index, :image.shape[0], :image.shape[1], :image.shape[2]] = image\n",
        "\n",
        "        return image_batch\n",
        "\n",
        "    def compute_targets(self, image_group, annotations_group):\n",
        "        # same size for all batch image\n",
        "        h, w, _ = image_group[0].shape\n",
        "\n",
        "        targets =  np.zeros((len(annotations_group), self.cell_size, self.cell_size, 25))\n",
        "        for annotation_index, annotation in enumerate(annotations_group):\n",
        "            label = np.zeros((self.cell_size, self.cell_size, 25))\n",
        "            \n",
        "            box_chw =np.stack([\n",
        "                (annotation[:,0] + annotation[:,2])/2,\n",
        "                (annotation[:,1] + annotation[:,3])/2,\n",
        "                (annotation[:,2] - annotation[:,0]),\n",
        "                (annotation[:,3] - annotation[:,1])], axis=1)\n",
        "            # cls_ind = [self.label_to_name(label) for label in annotation[:, 4]]\n",
        "            cls_ind = np.int32(annotation[:, 4])\n",
        "\n",
        "            # x_ind， y_ind\n",
        "            x_ind = np.int32(box_chw[:, 0] * self.cell_size / w)\n",
        "            y_ind = np.int32(box_chw[:, 1] * self.cell_size / h)\n",
        "\n",
        "            #Each grid cell predicts only one object\n",
        "            index =  np.where(label[y_ind, x_ind,0]!=1)\n",
        "            if len(index):\n",
        "                label[y_ind[index], x_ind[index], 0] = 1\n",
        "                label[y_ind[index], x_ind[index], 1:5] = box_chw[index,...]\n",
        "                label[y_ind[index], x_ind[index], 5+cls_ind[index]] = 1\n",
        "\n",
        "            targets[annotation_index] = label\n",
        "\n",
        "        return np.asarray(targets)\n",
        "\n",
        "    def compute_input_output(self, group):\n",
        "        # load images and annotations\n",
        "        image_group       = self.load_image_group(group)\n",
        "        annotations_group = self.load_annotations_group(group)\n",
        "\n",
        "        # check validity of annotations\n",
        "        image_group, annotations_group = self.filter_annotations(image_group, annotations_group, group)\n",
        "\n",
        "        # perform preprocessing steps\n",
        "        image_group, annotations_group = self.preprocess_group(image_group, annotations_group)\n",
        "\n",
        "        # compute network inputs\n",
        "        inputs = self.compute_inputs(image_group)\n",
        "\n",
        "        # compute network targets\n",
        "        targets = self.compute_targets(image_group, annotations_group)\n",
        "\n",
        "        return [inputs, targets], None\n",
        "\n",
        "    def __next__(self): # __next()__ 를 구현하면 generator 을 만들 수 있다구. 이 함수는 custom 함수 next() 의 리턴값을 를 리턴.\n",
        "        return self.next()\n",
        "    def next(self):\n",
        "        # advance the group index\n",
        "        with self.lock: # self.lock.acquire()\n",
        "            if self.group_index == 0 and self.shuffle_groups:\n",
        "                # shuffle groups at start of epoch\n",
        "                random.shuffle(self.groups)\n",
        "            group = self.groups[self.group_index]\n",
        "            self.group_index = (self.group_index + 1) % len(self.groups)\n",
        "            # self.lock.release()\n",
        "\n",
        "        return self.compute_input_output(group)"
      ],
      "execution_count": null,
      "outputs": []
    },
    {
      "cell_type": "markdown",
      "metadata": {
        "id": "jApWIYBuCDOm"
      },
      "source": [
        "group (그룹은 1batch 랑 동일함. 데이터는, int 형식으로, 예를 들어 batch size 5 라면, ) - group index 이 있고 <br> \n",
        "image_group ([Batch, W, H, Ch] 이미지 데이터 Tensor) <br>\n",
        "annotations_group () 이 있음. <br>\n",
        "\n",
        "- \\_\\_init()__ 에서 group 이런 것들을 초기화해줌.\n",
        "- \\_\\_next()__ 를 구현하면 generator 을 만들 수 있다구. 이 함수는 custom 함수 next() 의 리턴값을 를 리턴.\n",
        "  - next()\n",
        "    - group = self.groups[self.group_index]\n",
        "    - compute_input_output(group)\n",
        "      - image_group = load_image_group(group) \n",
        "        - 아래 코드를 그룹 모든 원소들에 대해서 실행\n",
        "        - load_image(self, image_index) << **상속받은 클래스에서 구현**\n",
        "      - annotations_group = load_annotations_group(group)\n",
        "        - 아래 코드를 그룹 모드 원소들에 대해서 실행\n",
        "        - load_annotations(image_index) << **상속받은 클래스에서 구현**\n",
        "      - filter_annotations(image_group, annotations_group, group) \n",
        "      - preprocess_group(image_group, annotations_group)\n",
        "      - inputs = compute_inputs(image_group)\n",
        "      - targets = compute_targets(image_group, annotations_group)\n",
        "    - **return [input, targets], None**\n"
      ]
    },
    {
      "cell_type": "code",
      "metadata": {
        "id": "tgmqRU5CmcMO"
      },
      "source": [
        "from ..utils.image import read_image_bgr\n",
        "\n",
        "import os\n",
        "import numpy as np\n",
        "from six import raise_from\n",
        "from PIL import Image\n",
        "\n",
        "try:\n",
        "    import xml.etree.cElementTree as ET\n",
        "except ImportError:\n",
        "    import xml.etree.ElementTree as ET\n",
        "\n",
        "voc_classes = {\n",
        "    'aeroplane'   : 0,\n",
        "    'bicycle'     : 1,\n",
        "    'bird'        : 2,\n",
        "    'boat'        : 3,\n",
        "    'bottle'      : 4,\n",
        "    'bus'         : 5,\n",
        "    'car'         : 6,\n",
        "    'cat'         : 7,\n",
        "    'chair'       : 8,\n",
        "    'cow'         : 9,\n",
        "    'diningtable' : 10,\n",
        "    'dog'         : 11,\n",
        "    'horse'       : 12,\n",
        "    'motorbike'   : 13,\n",
        "    'person'      : 14,\n",
        "    'pottedplant'   : 15,\n",
        "    'sheep'       : 16,\n",
        "    'sofa'        : 17,\n",
        "    'train'       : 18,\n",
        "    'tvmonitor'   : 19\n",
        "}\n",
        "\n",
        "def _findNode(parent, name, debug_name = None, parse = None):\n",
        "    if debug_name is None:\n",
        "        debug_name = name\n",
        "\n",
        "    result = parent.find(name)\n",
        "    if result is None:\n",
        "        raise ValueError('missing element \\'{}\\''.format(debug_name))\n",
        "    if parse is not None:\n",
        "        try:\n",
        "            return parse(result.text)\n",
        "        except ValueError as e:\n",
        "            raise_from(ValueError('illegal value for \\'{}\\': {}'.format(debug_name, e)), None)\n",
        "    return result\n",
        "\n",
        "\n",
        "class PascalVocGenerator(Generator):\n",
        "    def __init__(\n",
        "        self,\n",
        "        data_dir,\n",
        "        set_name,\n",
        "        classes=voc_classes,\n",
        "        image_extension='.jpg',\n",
        "        skip_truncated=False,\n",
        "        skip_difficult=False,\n",
        "        **kwargs\n",
        "    ):\n",
        "        self.data_dir             = data_dir\n",
        "        self.set_name             = set_name\n",
        "        self.classes              = classes\n",
        "        self.image_names          = [l.strip().split(None, 1)[0] for l in open(os.path.join(data_dir, 'ImageSets', 'Main', set_name + '.txt')).readlines()]  # image_names 에는 ['1.img', '2.img', '3.img', .. ] 이런 것들이 들어 있음.\n",
        "        self.image_extension      = image_extension \n",
        "        self.skip_truncated       = skip_truncated\n",
        "        self.skip_difficult       = skip_difficult\n",
        "\n",
        "        self.labels = {}\n",
        "        for key, value in self.classes.items():\n",
        "            self.labels[value] = key\n",
        "\n",
        "        super(PascalVocGenerator, self).__init__(**kwargs)\n",
        "\n",
        "    def size(self):\n",
        "        return len(self.image_names)\n",
        "\n",
        "    def num_classes(self):\n",
        "        return len(self.classes)\n",
        "\n",
        "    def name_to_label(self, name):\n",
        "        return self.classes[name]\n",
        "\n",
        "    def label_to_name(self, label):\n",
        "        return self.labels[label]\n",
        "\n",
        "    def image_aspect_ratio(self, image_index):\n",
        "        path  = os.path.join(self.data_dir, 'JPEGImages', self.image_names[image_index] + self.image_extension)\n",
        "        try:\n",
        "            image = Image.open(path)\n",
        "        except Exception as ex:\n",
        "            print(path)\n",
        "        return float(image.width) / float(image.height)\n",
        "\n",
        "    def load_image(self, image_index): # 이미지 번호 (전체 데이터 중 i 번째) 를 받아서, 해당 이미지의 경로를 생성, 해당 이미지를 로드\n",
        "        path = os.path.join(self.data_dir, 'JPEGImages', self.image_names[image_index] + self.image_extension)\n",
        "        return read_image_bgr(path)\n",
        "\n",
        "    def __parse_annotation(self, element):\n",
        "        truncated = _findNode(element, 'truncated', parse=int)\n",
        "        difficult = _findNode(element, 'difficult', parse=int)\n",
        "\n",
        "        class_name = _findNode(element, 'name').text\n",
        "        if class_name not in self.classes:\n",
        "            raise ValueError('class name \\'{}\\' not found in classes: {}'.format(class_name, list(self.classes.keys())))\n",
        "\n",
        "        box = np.zeros((1, 5))\n",
        "        box[0, 4] = self.name_to_label(class_name)\n",
        "\n",
        "        bndbox    = _findNode(element, 'bndbox')\n",
        "        box[0, 0] = _findNode(bndbox, 'xmin', 'bndbox.xmin', parse=float) + 1\n",
        "        box[0, 1] = _findNode(bndbox, 'ymin', 'bndbox.ymin', parse=float) + 1\n",
        "        box[0, 2] = _findNode(bndbox, 'xmax', 'bndbox.xmax', parse=float) - 1\n",
        "        box[0, 3] = _findNode(bndbox, 'ymax', 'bndbox.ymax', parse=float) - 1\n",
        "\n",
        "        return truncated, difficult, box\n",
        "\n",
        "    def __parse_annotations(self, xml_root):\n",
        "        size_node = _findNode(xml_root, 'size')\n",
        "        width     = _findNode(size_node, 'width',  'size.width',  parse=float)\n",
        "        height    = _findNode(size_node, 'height', 'size.height', parse=float)\n",
        "\n",
        "        boxes = np.zeros((0, 5))\n",
        "        for i, element in enumerate(xml_root.iter('object')):\n",
        "            try:\n",
        "                truncated, difficult, box = self.__parse_annotation(element)\n",
        "            except ValueError as e:\n",
        "                raise_from(ValueError('could not parse object #{}: {}'.format(i, e)), None)\n",
        "\n",
        "            if truncated and self.skip_truncated:\n",
        "                continue\n",
        "            if difficult and self.skip_difficult:\n",
        "                continue\n",
        "            boxes = np.append(boxes, box, axis=0)\n",
        "        return boxes\n",
        "\n",
        "    def load_annotations(self, image_index):\n",
        "        filename = self.image_names[image_index] + '.xml'\n",
        "        try:\n",
        "            tree = ET.parse(os.path.join(self.data_dir, 'Annotations', filename))\n",
        "            return self.__parse_annotations(tree.getroot())\n",
        "        except ET.ParseError as e:\n",
        "            raise_from(ValueError('invalid annotations file: {}: {}'.format(filename, e)), None)\n",
        "        except ValueError as e:\n",
        "            raise_from(ValueError('invalid annotations file: {}: {}'.format(filename, e)), None)"
      ],
      "execution_count": null,
      "outputs": []
    },
    {
      "cell_type": "markdown",
      "metadata": {
        "id": "OcWdZEgTJ9lu"
      },
      "source": [
        "- load_image(index) : \n",
        "  - read_image_bgr(path) : 이미지 1개를 적절히 읽어와 return\n",
        "  "
      ]
    },
    {
      "cell_type": "markdown",
      "metadata": {
        "id": "Ey9yvYMHmipe"
      },
      "source": [
        "### Training"
      ]
    },
    {
      "cell_type": "code",
      "metadata": {
        "id": "1BO1yg5Ltv2b"
      },
      "source": [
        "def create_yolo(inputs, training=True, num_classes=20, weights=None, *args, **kwargs):\n",
        "    if training:\n",
        "        image, gt_boxes = inputs\n",
        "    else:\n",
        "        image = inputs\n",
        "\n",
        "    coord_loss, object_loss, noobject_loss, cls_loss, output = Yolo(training=training, num_classes=num_classes, weights=weights)([image, gt_boxes])\n",
        "\n",
        "    model = tf.keras.Model(inputs=inputs, outputs=[coord_loss, object_loss, noobject_loss, cls_loss,output], name=\"yolov1\")\n",
        "    return model"
      ],
      "execution_count": null,
      "outputs": []
    },
    {
      "cell_type": "code",
      "metadata": {
        "id": "Gp4zvsx952fW"
      },
      "source": [
        "import argparse\n",
        "import os\n",
        "\n",
        "import keras\n",
        "import keras.preprocessing.image\n",
        "\n",
        "from core.models.model import create_yolo\n",
        "from core.preprocessing import PascalVocGenerator\n",
        "\n",
        "# os.environ['TF_CPP_MIN_LOG_LEVEL'] = '2'\n",
        "# os.environ[\"CUDA_DEVICE_ORDER\"] = \"PCI_BUS_ID\"\n",
        "# os.environ[\"CUDA_VISIBLE_DEVICES\"] = '0'\n",
        "\n",
        "def create_model():\n",
        "    image = keras.layers.Input((448, 448, 3))\n",
        "    # image = keras.layers.Input((None, None, 3))\n",
        "    gt_boxes = keras.layers.Input((7, 7, 25))\n",
        "    return create_yolo([image, gt_boxes], num_classes=20, weights=None)\n",
        "\n",
        "'''\n",
        "def parse_args():\n",
        "    \"\"\"Parse input arguments.\"\"\"\n",
        "    parser = argparse.ArgumentParser(description='Tensorflow Faster R-CNN demo')\n",
        "\n",
        "    subparsers = parser.add_subparsers(help='Arguments for specific dataset types.', dest='dataset_type')\n",
        "    subparsers.required = True\n",
        "\n",
        "    pascal_parser = subparsers.add_parser('pascal')\n",
        "    pascal_parser.add_argument('pascal_path', help='Path to dataset directory (ie. /tmp/VOCdevkit).', default='/home/syh/train_data/VOCdevkit/VOC2007')\n",
        "    parser.add_argument('--root_path', help='Size of the batches.', default= os.path.join(os.path.expanduser('~'), 'keras_yolo'), type=str)\n",
        "\n",
        "    parser.add_argument('--batch-size', help='Size of the batches.', default=4, type=int)\n",
        "\n",
        "    args = parser.parse_args()\n",
        "\n",
        "    return args\n",
        "'''\n",
        "\n",
        "\n",
        "DATA_PATH = '/home/syh/train_data/VOCdevkit/VOC2007'\n",
        "BATCH_SIZE = 16\n",
        "\n",
        "if __name__ == '__main__':\n",
        "    # parse arguments\n",
        "    args = parse_args()\n",
        "\n",
        "    # create the model\n",
        "    print('Creating model, this may take a second...')\n",
        "    model = create_model()\n",
        "\n",
        "    # compile model (note: set loss to None since loss is added inside layer)\n",
        "    model.compile(loss=None, optimizer=keras.optimizers.adam(lr=1e-5, clipnorm=0.001))\n",
        "\n",
        "    # print model summary\n",
        "    model.summary()\n",
        "\n",
        "    # create image data generator objects\n",
        "    train_image_data_generator = keras.preprocessing.image.ImageDataGenerator(\n",
        "        rescale=1.0 / 255.0,\n",
        "        horizontal_flip=True,\n",
        "        vertical_flip=True,\n",
        "        width_shift_range=0.1,\n",
        "        height_shift_range=0.1,\n",
        "        zoom_range=0.1,\n",
        "    )\n",
        "    test_image_data_generator = keras.preprocessing.image.ImageDataGenerator(\n",
        "        rescale=1.0 / 255.0,\n",
        "    )\n",
        "\n",
        "    # create a generator for training data\n",
        "    train_generator = PascalVocGenerator(\n",
        "        DATA_PATH,\n",
        "        'train', # 데이터들의 목록이 저장되어 있는 DATA_PATH/train.txt 읽어오기\n",
        "        batch_size=BATCH_SIZE,\n",
        "        transform_generator = train_image_data_generator\n",
        "    )\n",
        "\n",
        "    # create a generator for testing data\n",
        "    test_generator = PascalVocGenerator(\n",
        "        DATA_PATH,\n",
        "        'test', # 데이터들의 목록이 저장되어 있는 DATA_PATH/test.txt 읽어오기\n",
        "        batch_size=BATCH_SIZE,\n",
        "        transform_generator = test_image_data_generator\n",
        "    )\n",
        "\n",
        "    # start training\n",
        "    model.fit_generator(\n",
        "        generator=train_generator,\n",
        "        steps_per_epoch=len(train_generator.image_names) // args.batch_size,\n",
        "        epochs=100,\n",
        "        verbose=1,\n",
        "        validation_data=test_generator,\n",
        "        validation_steps=len(test_generator.image_names) // args.batch_size,\n",
        "        callbacks=[\n",
        "            keras.callbacks.ModelCheckpoint(os.path.join(args.root_path, 'snapshots/yolo(v1)_voc_best.h5'), monitor='val_loss', verbose=1, mode='min', save_best_only=True),\n",
        "            keras.callbacks.ReduceLROnPlateau(monitor='val_loss', factor=0.1, patience=10, verbose=1, mode='auto', min_delta=0.0001, cooldown=0, min_lr=0),\n",
        "        ],\n",
        "    )\n",
        "\n",
        "    # store final result too\n",
        "    model.save('snapshots/yolo(v1)_voc_best.h5')\n",
        "\n",
        "    '''\n",
        "    cd tools\n",
        "    python train_yolo.py pascal /home/syh/train_data/VOCdevkit/VOC2007\n",
        "    '''"
      ],
      "execution_count": null,
      "outputs": []
    },
    {
      "cell_type": "markdown",
      "metadata": {
        "id": "ujOOQrcaGlOa"
      },
      "source": [
        "### Testing"
      ]
    },
    {
      "cell_type": "code",
      "metadata": {
        "id": "Y60e9OsIGmEN"
      },
      "source": [
        ""
      ],
      "execution_count": null,
      "outputs": []
    }
  ]
}